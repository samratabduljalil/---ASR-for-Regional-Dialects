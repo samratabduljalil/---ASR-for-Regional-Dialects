{
 "cells": [
  {
   "cell_type": "markdown",
   "id": "1e8da0a4",
   "metadata": {
    "papermill": {
     "duration": 0.010979,
     "end_time": "2024-04-06T18:00:47.998133",
     "exception": false,
     "start_time": "2024-04-06T18:00:47.987154",
     "status": "completed"
    },
    "tags": []
   },
   "source": [
    "<h1>This notebook is purely inspired from <a href=\"https://www.kaggle.com/code/smjishanulislam/quickstart-with-whisper-small/notebook\"> here</a><h1>\n",
    "   <h1>This notebook is created for utilizing GPU time. Because of limited GPU resources in Kaggle, training and inference in the same notebook is not a good idea. Use this notebook only for training. After training, import the model as a dataset. For inference, use the code in the <a href=\"https://www.kaggle.com/code/samratabduljalil/bengali-speech-recognition-inference/\"> link</a>  <h1> "
   ]
  },
  {
   "cell_type": "code",
   "execution_count": 1,
   "id": "6f6e2dd4",
   "metadata": {
    "execution": {
     "iopub.execute_input": "2024-04-06T18:00:48.017794Z",
     "iopub.status.busy": "2024-04-06T18:00:48.017436Z",
     "iopub.status.idle": "2024-04-06T18:01:11.607038Z",
     "shell.execute_reply": "2024-04-06T18:01:11.606250Z"
    },
    "papermill": {
     "duration": 23.601904,
     "end_time": "2024-04-06T18:01:11.609280",
     "exception": false,
     "start_time": "2024-04-06T18:00:48.007376",
     "status": "completed"
    },
    "tags": []
   },
   "outputs": [
    {
     "name": "stderr",
     "output_type": "stream",
     "text": [
      "2024-04-06 18:01:00.142802: E external/local_xla/xla/stream_executor/cuda/cuda_dnn.cc:9261] Unable to register cuDNN factory: Attempting to register factory for plugin cuDNN when one has already been registered\n",
      "2024-04-06 18:01:00.142905: E external/local_xla/xla/stream_executor/cuda/cuda_fft.cc:607] Unable to register cuFFT factory: Attempting to register factory for plugin cuFFT when one has already been registered\n",
      "2024-04-06 18:01:00.282722: E external/local_xla/xla/stream_executor/cuda/cuda_blas.cc:1515] Unable to register cuBLAS factory: Attempting to register factory for plugin cuBLAS when one has already been registered\n"
     ]
    }
   ],
   "source": [
    "import os\n",
    "\n",
    "import pandas as pd\n",
    "\n",
    "import librosa\n",
    "import librosa.display\n",
    "\n",
    "import numpy as np\n",
    "\n",
    "import IPython.display as ipd\n",
    "\n",
    "import matplotlib.pyplot as plt\n",
    "\n",
    "import random\n",
    "\n",
    "from collections import Counter\n",
    "\n",
    "from sklearn.model_selection import train_test_split\n",
    "\n",
    "import torch\n",
    "import torchaudio\n",
    "\n",
    "from dataclasses import dataclass\n",
    "from typing import Any, Dict, List, Union\n",
    "from datasets import DatasetDict\n",
    "from datasets import Dataset as DS\n",
    "\n",
    "from transformers import (\n",
    "    WhisperFeatureExtractor,\n",
    "    WhisperTokenizer,\n",
    "    WhisperProcessor,\n",
    "    WhisperForConditionalGeneration,\n",
    "    Seq2SeqTrainingArguments,\n",
    "    Seq2SeqTrainer,\n",
    "    TrainerCallback,\n",
    "    TrainingArguments,\n",
    "    TrainerState,\n",
    "    TrainerControl,\n",
    "    EarlyStoppingCallback,\n",
    "    pipeline\n",
    ")\n",
    "\n",
    "from torchmetrics.text import WordErrorRate, CharErrorRate"
   ]
  },
  {
   "cell_type": "code",
   "execution_count": 2,
   "id": "204553a4",
   "metadata": {
    "execution": {
     "iopub.execute_input": "2024-04-06T18:01:11.629847Z",
     "iopub.status.busy": "2024-04-06T18:01:11.629256Z",
     "iopub.status.idle": "2024-04-06T18:01:11.633749Z",
     "shell.execute_reply": "2024-04-06T18:01:11.632823Z"
    },
    "papermill": {
     "duration": 0.016638,
     "end_time": "2024-04-06T18:01:11.635610",
     "exception": false,
     "start_time": "2024-04-06T18:01:11.618972",
     "status": "completed"
    },
    "tags": []
   },
   "outputs": [],
   "source": [
    "BASE_DIR = '/kaggle/input/ben10/ben10'\n",
    "train_data_dir = f\"{BASE_DIR}/16_kHz_train_audio/\"\n",
    "test_data_dir = f\"{BASE_DIR}/16_kHz_valid_audio/\"\n",
    "data_path = f\"{BASE_DIR}/train.csv\""
   ]
  },
  {
   "cell_type": "code",
   "execution_count": 3,
   "id": "0e190132",
   "metadata": {
    "execution": {
     "iopub.execute_input": "2024-04-06T18:01:11.654812Z",
     "iopub.status.busy": "2024-04-06T18:01:11.654540Z",
     "iopub.status.idle": "2024-04-06T18:01:11.658424Z",
     "shell.execute_reply": "2024-04-06T18:01:11.657611Z"
    },
    "papermill": {
     "duration": 0.015728,
     "end_time": "2024-04-06T18:01:11.660372",
     "exception": false,
     "start_time": "2024-04-06T18:01:11.644644",
     "status": "completed"
    },
    "tags": []
   },
   "outputs": [],
   "source": [
    "split2path = {\n",
    "    \"train\": train_data_dir,\n",
    "    \"test\": test_data_dir,\n",
    "}"
   ]
  },
  {
   "cell_type": "code",
   "execution_count": 4,
   "id": "2f8b9945",
   "metadata": {
    "execution": {
     "iopub.execute_input": "2024-04-06T18:01:11.679329Z",
     "iopub.status.busy": "2024-04-06T18:01:11.679066Z",
     "iopub.status.idle": "2024-04-06T18:01:11.928215Z",
     "shell.execute_reply": "2024-04-06T18:01:11.927297Z"
    },
    "papermill": {
     "duration": 0.260941,
     "end_time": "2024-04-06T18:01:11.930275",
     "exception": false,
     "start_time": "2024-04-06T18:01:11.669334",
     "status": "completed"
    },
    "tags": []
   },
   "outputs": [
    {
     "data": {
      "text/html": [
       "<div>\n",
       "<style scoped>\n",
       "    .dataframe tbody tr th:only-of-type {\n",
       "        vertical-align: middle;\n",
       "    }\n",
       "\n",
       "    .dataframe tbody tr th {\n",
       "        vertical-align: top;\n",
       "    }\n",
       "\n",
       "    .dataframe thead th {\n",
       "        text-align: right;\n",
       "    }\n",
       "</style>\n",
       "<table border=\"1\" class=\"dataframe\">\n",
       "  <thead>\n",
       "    <tr style=\"text-align: right;\">\n",
       "      <th></th>\n",
       "      <th>file_name</th>\n",
       "      <th>transcripts</th>\n",
       "    </tr>\n",
       "  </thead>\n",
       "  <tbody>\n",
       "    <tr>\n",
       "      <th>12748</th>\n",
       "      <td>train_tangail (196).wav</td>\n",
       "      <td>কিন্তু ইন্না কইরা আইগানের কোনো সোর্স নাই কিন্ত...</td>\n",
       "    </tr>\n",
       "    <tr>\n",
       "      <th>9274</th>\n",
       "      <td>train_rangpur (723).wav</td>\n",
       "      <td>বিমল কাকা। কেমন আছেন ? বেশী ভালো নাই। কেন বাবা...</td>\n",
       "    </tr>\n",
       "    <tr>\n",
       "      <th>6100</th>\n",
       "      <td>train_narail (161).wav</td>\n",
       "      <td>ও মেকাপ ছাড়া, ওরে বাবা! আরে ভাইরে! এ ভাই, তোর ...</td>\n",
       "    </tr>\n",
       "    <tr>\n",
       "      <th>10017</th>\n",
       "      <td>train_sylhet (410).wav</td>\n",
       "      <td>আমরা গেছলাম সাতছড়ি, লাউয়া ছড়া। মানে কুনটার খতা...</td>\n",
       "    </tr>\n",
       "    <tr>\n",
       "      <th>7798</th>\n",
       "      <td>train_narsingdi (355).wav</td>\n",
       "      <td>ছবি আছে। আমারে জ্বর ইয়া জ্বর-ঠান্ডা লাগায় লাইছ...</td>\n",
       "    </tr>\n",
       "    <tr>\n",
       "      <th>10858</th>\n",
       "      <td>train_sylhet (1251).wav</td>\n",
       "      <td>তুমি তো &lt;&gt; আর্জেন্টিনা, না নি? কিলাখান লাগলো প...</td>\n",
       "    </tr>\n",
       "    <tr>\n",
       "      <th>8301</th>\n",
       "      <td>train_narsingdi (858).wav</td>\n",
       "      <td>কি একটা ফ্যারার মইদ্দে যে আছি। কই আইন্না যে ভর...</td>\n",
       "    </tr>\n",
       "    <tr>\n",
       "      <th>6402</th>\n",
       "      <td>train_narail (463).wav</td>\n",
       "      <td>ওগে সেই মনে করো বিশ বছর আগেত্তেই দুই তালা তিন ...</td>\n",
       "    </tr>\n",
       "    <tr>\n",
       "      <th>8922</th>\n",
       "      <td>train_rangpur (371).wav</td>\n",
       "      <td>প্রাধন্য যার যেটে সারি। নাই নাই হরিণ। যে এলাকা...</td>\n",
       "    </tr>\n",
       "    <tr>\n",
       "      <th>3627</th>\n",
       "      <td>train_habiganj (304).wav</td>\n",
       "      <td>&lt;&gt; অত লাম্বা গল্ফ &lt;&gt; আমার সময় শট অতো লাম্বা গল...</td>\n",
       "    </tr>\n",
       "  </tbody>\n",
       "</table>\n",
       "</div>"
      ],
      "text/plain": [
       "                       file_name  \\\n",
       "12748    train_tangail (196).wav   \n",
       "9274     train_rangpur (723).wav   \n",
       "6100      train_narail (161).wav   \n",
       "10017     train_sylhet (410).wav   \n",
       "7798   train_narsingdi (355).wav   \n",
       "10858    train_sylhet (1251).wav   \n",
       "8301   train_narsingdi (858).wav   \n",
       "6402      train_narail (463).wav   \n",
       "8922     train_rangpur (371).wav   \n",
       "3627    train_habiganj (304).wav   \n",
       "\n",
       "                                             transcripts  \n",
       "12748  কিন্তু ইন্না কইরা আইগানের কোনো সোর্স নাই কিন্ত...  \n",
       "9274   বিমল কাকা। কেমন আছেন ? বেশী ভালো নাই। কেন বাবা...  \n",
       "6100   ও মেকাপ ছাড়া, ওরে বাবা! আরে ভাইরে! এ ভাই, তোর ...  \n",
       "10017  আমরা গেছলাম সাতছড়ি, লাউয়া ছড়া। মানে কুনটার খতা...  \n",
       "7798   ছবি আছে। আমারে জ্বর ইয়া জ্বর-ঠান্ডা লাগায় লাইছ...  \n",
       "10858  তুমি তো <> আর্জেন্টিনা, না নি? কিলাখান লাগলো প...  \n",
       "8301   কি একটা ফ্যারার মইদ্দে যে আছি। কই আইন্না যে ভর...  \n",
       "6402   ওগে সেই মনে করো বিশ বছর আগেত্তেই দুই তালা তিন ...  \n",
       "8922   প্রাধন্য যার যেটে সারি। নাই নাই হরিণ। যে এলাকা...  \n",
       "3627   <> অত লাম্বা গল্ফ <> আমার সময় শট অতো লাম্বা গল...  "
      ]
     },
     "execution_count": 4,
     "metadata": {},
     "output_type": "execute_result"
    }
   ],
   "source": [
    "data = pd.read_csv(data_path)\n",
    "data.sample(10)"
   ]
  },
  {
   "cell_type": "code",
   "execution_count": 5,
   "id": "2ffa33e1",
   "metadata": {
    "execution": {
     "iopub.execute_input": "2024-04-06T18:01:11.951411Z",
     "iopub.status.busy": "2024-04-06T18:01:11.951124Z",
     "iopub.status.idle": "2024-04-06T18:01:11.960186Z",
     "shell.execute_reply": "2024-04-06T18:01:11.959343Z"
    },
    "papermill": {
     "duration": 0.021174,
     "end_time": "2024-04-06T18:01:11.962091",
     "exception": false,
     "start_time": "2024-04-06T18:01:11.940917",
     "status": "completed"
    },
    "tags": []
   },
   "outputs": [],
   "source": [
    "def extract_split(filename):\n",
    "    filename_ = filename.split(\"_\")\n",
    "    split = filename_[0]\n",
    "    return split\n",
    "\n",
    "def extract_district(filename):\n",
    "    filename_ = filename.split(\" \")[0]\n",
    "    district = filename_.split(\"_\")[1]\n",
    "    return district\n",
    "\n",
    "def beautify_dataset(data):\n",
    "    splits = []\n",
    "    districts = []\n",
    "    newpaths = []\n",
    "    transcripts = []\n",
    "    \n",
    "    for i in range(len(data)):\n",
    "        filename, transcript = data.iloc[i]\n",
    "        split = extract_split(filename)\n",
    "        district = extract_district(filename)\n",
    "        dir_path = split2path[split]\n",
    "        composed_path = f\"{dir_path}{filename}\"\n",
    "        \n",
    "        if os.path.exists(composed_path) == False:\n",
    "            print(f\"{composed_path} does not exist.\")\n",
    "            continue\n",
    "        \n",
    "        # replace any newline characters\n",
    "        transcript = transcript.replace(\"\\n\", \" \")\n",
    "        transcript = \" \".join(transcript.split())\n",
    "        \n",
    "        splits.append(split)\n",
    "        districts.append(district)\n",
    "        newpaths.append(composed_path)\n",
    "        transcripts.append(transcript)\n",
    "    \n",
    "    data['file_path'] = newpaths\n",
    "    data['district'] = districts\n",
    "    data['split'] = splits\n",
    "    data['transcripts'] = transcripts\n",
    "    \n",
    "#     data.drop(columns=['file_name'], inplace=True)\n",
    "    \n",
    "    return data"
   ]
  },
  {
   "cell_type": "code",
   "execution_count": 6,
   "id": "2ff39ddf",
   "metadata": {
    "execution": {
     "iopub.execute_input": "2024-04-06T18:01:11.985353Z",
     "iopub.status.busy": "2024-04-06T18:01:11.984798Z",
     "iopub.status.idle": "2024-04-06T18:01:35.879558Z",
     "shell.execute_reply": "2024-04-06T18:01:35.878646Z"
    },
    "papermill": {
     "duration": 23.910125,
     "end_time": "2024-04-06T18:01:35.882431",
     "exception": false,
     "start_time": "2024-04-06T18:01:11.972306",
     "status": "completed"
    },
    "tags": []
   },
   "outputs": [
    {
     "data": {
      "text/html": [
       "<div>\n",
       "<style scoped>\n",
       "    .dataframe tbody tr th:only-of-type {\n",
       "        vertical-align: middle;\n",
       "    }\n",
       "\n",
       "    .dataframe tbody tr th {\n",
       "        vertical-align: top;\n",
       "    }\n",
       "\n",
       "    .dataframe thead th {\n",
       "        text-align: right;\n",
       "    }\n",
       "</style>\n",
       "<table border=\"1\" class=\"dataframe\">\n",
       "  <thead>\n",
       "    <tr style=\"text-align: right;\">\n",
       "      <th></th>\n",
       "      <th>file_name</th>\n",
       "      <th>transcripts</th>\n",
       "      <th>file_path</th>\n",
       "      <th>district</th>\n",
       "      <th>split</th>\n",
       "    </tr>\n",
       "  </thead>\n",
       "  <tbody>\n",
       "    <tr>\n",
       "      <th>12668</th>\n",
       "      <td>train_tangail (116).wav</td>\n",
       "      <td>সেলিম নিছে? না না। সেলিম তো আপন ভাই। হ আপন ভাই...</td>\n",
       "      <td>/kaggle/input/ben10/ben10/16_kHz_train_audio/t...</td>\n",
       "      <td>tangail</td>\n",
       "      <td>train</td>\n",
       "    </tr>\n",
       "    <tr>\n",
       "      <th>3906</th>\n",
       "      <td>train_habiganj (583).wav</td>\n",
       "      <td>আওরো গিয়া ফেলুন-জাল দিয়ে মাছ মারা। সব মিলাইয়...</td>\n",
       "      <td>/kaggle/input/ben10/ben10/16_kHz_train_audio/t...</td>\n",
       "      <td>habiganj</td>\n",
       "      <td>train</td>\n",
       "    </tr>\n",
       "    <tr>\n",
       "      <th>6052</th>\n",
       "      <td>train_narail (113).wav</td>\n",
       "      <td>আমার সাথে তো। পরে কলো কলো যে এরম আফনের নানা তো...</td>\n",
       "      <td>/kaggle/input/ben10/ben10/16_kHz_train_audio/t...</td>\n",
       "      <td>narail</td>\n",
       "      <td>train</td>\n",
       "    </tr>\n",
       "    <tr>\n",
       "      <th>8764</th>\n",
       "      <td>train_rangpur (213).wav</td>\n",
       "      <td>তার তো ওই রকমে দিন কাল যাইতেছে। হুম। তারপর ওই ...</td>\n",
       "      <td>/kaggle/input/ben10/ben10/16_kHz_train_audio/t...</td>\n",
       "      <td>rangpur</td>\n",
       "      <td>train</td>\n",
       "    </tr>\n",
       "    <tr>\n",
       "      <th>6062</th>\n",
       "      <td>train_narail (123).wav</td>\n",
       "      <td>তুরা ওই এনে সেনে যাবি আর বাল ছিরে ব্যারাবি। কয়...</td>\n",
       "      <td>/kaggle/input/ben10/ben10/16_kHz_train_audio/t...</td>\n",
       "      <td>narail</td>\n",
       "      <td>train</td>\n",
       "    </tr>\n",
       "    <tr>\n",
       "      <th>2056</th>\n",
       "      <td>train_chittagong (152).wav</td>\n",
       "      <td>ছয় তারিখ ওডা শনিবার। আঁরারে ফতমে খইয়্যিল তই তা...</td>\n",
       "      <td>/kaggle/input/ben10/ben10/16_kHz_train_audio/t...</td>\n",
       "      <td>chittagong</td>\n",
       "      <td>train</td>\n",
       "    </tr>\n",
       "    <tr>\n",
       "      <th>13549</th>\n",
       "      <td>train_tangail (997).wav</td>\n",
       "      <td>লাল ইট দ্বারা নির্মিত এই মসজিদটি আকারে বেশ ছোট...</td>\n",
       "      <td>/kaggle/input/ben10/ben10/16_kHz_train_audio/t...</td>\n",
       "      <td>tangail</td>\n",
       "      <td>train</td>\n",
       "    </tr>\n",
       "    <tr>\n",
       "      <th>3883</th>\n",
       "      <td>train_habiganj (560).wav</td>\n",
       "      <td>শুকনা মৌসুমও বলতে কী আমরা গ্রামের যে ফ্রেন্ড আ...</td>\n",
       "      <td>/kaggle/input/ben10/ben10/16_kHz_train_audio/t...</td>\n",
       "      <td>habiganj</td>\n",
       "      <td>train</td>\n",
       "    </tr>\n",
       "    <tr>\n",
       "      <th>1301</th>\n",
       "      <td>train_barishal (247).wav</td>\n",
       "      <td>&lt;&gt;</td>\n",
       "      <td>/kaggle/input/ben10/ben10/16_kHz_train_audio/t...</td>\n",
       "      <td>barishal</td>\n",
       "      <td>train</td>\n",
       "    </tr>\n",
       "    <tr>\n",
       "      <th>11125</th>\n",
       "      <td>train_sylhet (1518).wav</td>\n",
       "      <td>অনেক, ইতা বাচ্চাইন, ই সময়টা আসলে খুবই, কিতা খই...</td>\n",
       "      <td>/kaggle/input/ben10/ben10/16_kHz_train_audio/t...</td>\n",
       "      <td>sylhet</td>\n",
       "      <td>train</td>\n",
       "    </tr>\n",
       "    <tr>\n",
       "      <th>3565</th>\n",
       "      <td>train_habiganj (242).wav</td>\n",
       "      <td>খতা ইডা না। জামাইটা খালকা উমরা যাইতাছিগা। রুজি...</td>\n",
       "      <td>/kaggle/input/ben10/ben10/16_kHz_train_audio/t...</td>\n",
       "      <td>habiganj</td>\n",
       "      <td>train</td>\n",
       "    </tr>\n",
       "    <tr>\n",
       "      <th>882</th>\n",
       "      <td>train_sandwip (883).wav</td>\n",
       "      <td>আমার ধইরবের কোনো কাম নাই হাতে। কতা বুইচ্ছনে? আ...</td>\n",
       "      <td>/kaggle/input/ben10/ben10/16_kHz_train_audio/t...</td>\n",
       "      <td>sandwip</td>\n",
       "      <td>train</td>\n",
       "    </tr>\n",
       "    <tr>\n",
       "      <th>6097</th>\n",
       "      <td>train_narail (158).wav</td>\n",
       "      <td>এহোন অপেরা হইছে, আসলি আসতি পারিস। এহোন আর কি অ...</td>\n",
       "      <td>/kaggle/input/ben10/ben10/16_kHz_train_audio/t...</td>\n",
       "      <td>narail</td>\n",
       "      <td>train</td>\n",
       "    </tr>\n",
       "    <tr>\n",
       "      <th>12181</th>\n",
       "      <td>train_sylhet (2574).wav</td>\n",
       "      <td>এরফরে আমি আর আমার ছাছাতো বাই, তানোর নাম অইলো র...</td>\n",
       "      <td>/kaggle/input/ben10/ben10/16_kHz_train_audio/t...</td>\n",
       "      <td>sylhet</td>\n",
       "      <td>train</td>\n",
       "    </tr>\n",
       "    <tr>\n",
       "      <th>9814</th>\n",
       "      <td>train_sylhet (207).wav</td>\n",
       "      <td>অখান তাকি ধান বেইচ্চা অখানো আইয়া ছাউলের বস্তা ...</td>\n",
       "      <td>/kaggle/input/ben10/ben10/16_kHz_train_audio/t...</td>\n",
       "      <td>sylhet</td>\n",
       "      <td>train</td>\n",
       "    </tr>\n",
       "    <tr>\n",
       "      <th>363</th>\n",
       "      <td>train_sandwip (364).wav</td>\n",
       "      <td>কাম-টাম করি টোওয়াই-টাই এক ঘন্টা ধরি চিএনচি ছাল...</td>\n",
       "      <td>/kaggle/input/ben10/ben10/16_kHz_train_audio/t...</td>\n",
       "      <td>sandwip</td>\n",
       "      <td>train</td>\n",
       "    </tr>\n",
       "    <tr>\n",
       "      <th>7429</th>\n",
       "      <td>train_narail (1490).wav</td>\n",
       "      <td>তুমি আমারে সাইরে দিবানা? তা ওইভাবে ওরা খাইয়ে খ...</td>\n",
       "      <td>/kaggle/input/ben10/ben10/16_kHz_train_audio/t...</td>\n",
       "      <td>narail</td>\n",
       "      <td>train</td>\n",
       "    </tr>\n",
       "    <tr>\n",
       "      <th>2405</th>\n",
       "      <td>train_chittagong (501).wav</td>\n",
       "      <td>মানে তে তিন চাইর দিনের আগের ফরা ন ফায় আইজু। এই...</td>\n",
       "      <td>/kaggle/input/ben10/ben10/16_kHz_train_audio/t...</td>\n",
       "      <td>chittagong</td>\n",
       "      <td>train</td>\n",
       "    </tr>\n",
       "    <tr>\n",
       "      <th>9096</th>\n",
       "      <td>train_rangpur (545).wav</td>\n",
       "      <td>এ বাপ দুইবার তিনবার করি ষার দিয়াও ষার ধরে না। ...</td>\n",
       "      <td>/kaggle/input/ben10/ben10/16_kHz_train_audio/t...</td>\n",
       "      <td>rangpur</td>\n",
       "      <td>train</td>\n",
       "    </tr>\n",
       "    <tr>\n",
       "      <th>5122</th>\n",
       "      <td>train_kishoreganj (852).wav</td>\n",
       "      <td>আনুইন, আনুইন, আরো উফ্রে তুলুইন, তাইলে আইবো। সু...</td>\n",
       "      <td>/kaggle/input/ben10/ben10/16_kHz_train_audio/t...</td>\n",
       "      <td>kishoreganj</td>\n",
       "      <td>train</td>\n",
       "    </tr>\n",
       "  </tbody>\n",
       "</table>\n",
       "</div>"
      ],
      "text/plain": [
       "                         file_name  \\\n",
       "12668      train_tangail (116).wav   \n",
       "3906      train_habiganj (583).wav   \n",
       "6052        train_narail (113).wav   \n",
       "8764       train_rangpur (213).wav   \n",
       "6062        train_narail (123).wav   \n",
       "2056    train_chittagong (152).wav   \n",
       "13549      train_tangail (997).wav   \n",
       "3883      train_habiganj (560).wav   \n",
       "1301      train_barishal (247).wav   \n",
       "11125      train_sylhet (1518).wav   \n",
       "3565      train_habiganj (242).wav   \n",
       "882        train_sandwip (883).wav   \n",
       "6097        train_narail (158).wav   \n",
       "12181      train_sylhet (2574).wav   \n",
       "9814        train_sylhet (207).wav   \n",
       "363        train_sandwip (364).wav   \n",
       "7429       train_narail (1490).wav   \n",
       "2405    train_chittagong (501).wav   \n",
       "9096       train_rangpur (545).wav   \n",
       "5122   train_kishoreganj (852).wav   \n",
       "\n",
       "                                             transcripts  \\\n",
       "12668  সেলিম নিছে? না না। সেলিম তো আপন ভাই। হ আপন ভাই...   \n",
       "3906   আওরো গিয়া ফেলুন-জাল দিয়ে মাছ মারা। সব মিলাইয়...   \n",
       "6052   আমার সাথে তো। পরে কলো কলো যে এরম আফনের নানা তো...   \n",
       "8764   তার তো ওই রকমে দিন কাল যাইতেছে। হুম। তারপর ওই ...   \n",
       "6062   তুরা ওই এনে সেনে যাবি আর বাল ছিরে ব্যারাবি। কয়...   \n",
       "2056   ছয় তারিখ ওডা শনিবার। আঁরারে ফতমে খইয়্যিল তই তা...   \n",
       "13549  লাল ইট দ্বারা নির্মিত এই মসজিদটি আকারে বেশ ছোট...   \n",
       "3883   শুকনা মৌসুমও বলতে কী আমরা গ্রামের যে ফ্রেন্ড আ...   \n",
       "1301                                                  <>   \n",
       "11125  অনেক, ইতা বাচ্চাইন, ই সময়টা আসলে খুবই, কিতা খই...   \n",
       "3565   খতা ইডা না। জামাইটা খালকা উমরা যাইতাছিগা। রুজি...   \n",
       "882    আমার ধইরবের কোনো কাম নাই হাতে। কতা বুইচ্ছনে? আ...   \n",
       "6097   এহোন অপেরা হইছে, আসলি আসতি পারিস। এহোন আর কি অ...   \n",
       "12181  এরফরে আমি আর আমার ছাছাতো বাই, তানোর নাম অইলো র...   \n",
       "9814   অখান তাকি ধান বেইচ্চা অখানো আইয়া ছাউলের বস্তা ...   \n",
       "363    কাম-টাম করি টোওয়াই-টাই এক ঘন্টা ধরি চিএনচি ছাল...   \n",
       "7429   তুমি আমারে সাইরে দিবানা? তা ওইভাবে ওরা খাইয়ে খ...   \n",
       "2405   মানে তে তিন চাইর দিনের আগের ফরা ন ফায় আইজু। এই...   \n",
       "9096   এ বাপ দুইবার তিনবার করি ষার দিয়াও ষার ধরে না। ...   \n",
       "5122   আনুইন, আনুইন, আরো উফ্রে তুলুইন, তাইলে আইবো। সু...   \n",
       "\n",
       "                                               file_path     district  split  \n",
       "12668  /kaggle/input/ben10/ben10/16_kHz_train_audio/t...      tangail  train  \n",
       "3906   /kaggle/input/ben10/ben10/16_kHz_train_audio/t...     habiganj  train  \n",
       "6052   /kaggle/input/ben10/ben10/16_kHz_train_audio/t...       narail  train  \n",
       "8764   /kaggle/input/ben10/ben10/16_kHz_train_audio/t...      rangpur  train  \n",
       "6062   /kaggle/input/ben10/ben10/16_kHz_train_audio/t...       narail  train  \n",
       "2056   /kaggle/input/ben10/ben10/16_kHz_train_audio/t...   chittagong  train  \n",
       "13549  /kaggle/input/ben10/ben10/16_kHz_train_audio/t...      tangail  train  \n",
       "3883   /kaggle/input/ben10/ben10/16_kHz_train_audio/t...     habiganj  train  \n",
       "1301   /kaggle/input/ben10/ben10/16_kHz_train_audio/t...     barishal  train  \n",
       "11125  /kaggle/input/ben10/ben10/16_kHz_train_audio/t...       sylhet  train  \n",
       "3565   /kaggle/input/ben10/ben10/16_kHz_train_audio/t...     habiganj  train  \n",
       "882    /kaggle/input/ben10/ben10/16_kHz_train_audio/t...      sandwip  train  \n",
       "6097   /kaggle/input/ben10/ben10/16_kHz_train_audio/t...       narail  train  \n",
       "12181  /kaggle/input/ben10/ben10/16_kHz_train_audio/t...       sylhet  train  \n",
       "9814   /kaggle/input/ben10/ben10/16_kHz_train_audio/t...       sylhet  train  \n",
       "363    /kaggle/input/ben10/ben10/16_kHz_train_audio/t...      sandwip  train  \n",
       "7429   /kaggle/input/ben10/ben10/16_kHz_train_audio/t...       narail  train  \n",
       "2405   /kaggle/input/ben10/ben10/16_kHz_train_audio/t...   chittagong  train  \n",
       "9096   /kaggle/input/ben10/ben10/16_kHz_train_audio/t...      rangpur  train  \n",
       "5122   /kaggle/input/ben10/ben10/16_kHz_train_audio/t...  kishoreganj  train  "
      ]
     },
     "execution_count": 6,
     "metadata": {},
     "output_type": "execute_result"
    }
   ],
   "source": [
    "data = beautify_dataset(data)\n",
    "data.sample(20)"
   ]
  },
  {
   "cell_type": "code",
   "execution_count": 7,
   "id": "6c45e445",
   "metadata": {
    "execution": {
     "iopub.execute_input": "2024-04-06T18:01:35.904852Z",
     "iopub.status.busy": "2024-04-06T18:01:35.904025Z",
     "iopub.status.idle": "2024-04-06T18:01:35.928090Z",
     "shell.execute_reply": "2024-04-06T18:01:35.927198Z"
    },
    "papermill": {
     "duration": 0.037177,
     "end_time": "2024-04-06T18:01:35.929928",
     "exception": false,
     "start_time": "2024-04-06T18:01:35.892751",
     "status": "completed"
    },
    "tags": []
   },
   "outputs": [
    {
     "data": {
      "text/html": [
       "<div>\n",
       "<style scoped>\n",
       "    .dataframe tbody tr th:only-of-type {\n",
       "        vertical-align: middle;\n",
       "    }\n",
       "\n",
       "    .dataframe tbody tr th {\n",
       "        vertical-align: top;\n",
       "    }\n",
       "\n",
       "    .dataframe thead th {\n",
       "        text-align: right;\n",
       "    }\n",
       "</style>\n",
       "<table border=\"1\" class=\"dataframe\">\n",
       "  <thead>\n",
       "    <tr style=\"text-align: right;\">\n",
       "      <th></th>\n",
       "      <th>file_name</th>\n",
       "      <th>transcripts</th>\n",
       "      <th>file_path</th>\n",
       "      <th>district</th>\n",
       "      <th>split</th>\n",
       "    </tr>\n",
       "  </thead>\n",
       "  <tbody>\n",
       "    <tr>\n",
       "      <th>1329</th>\n",
       "      <td>train_barishal (275).wav</td>\n",
       "      <td>..</td>\n",
       "      <td>/kaggle/input/ben10/ben10/16_kHz_train_audio/t...</td>\n",
       "      <td>barishal</td>\n",
       "      <td>train</td>\n",
       "    </tr>\n",
       "    <tr>\n",
       "      <th>1331</th>\n",
       "      <td>train_barishal (277).wav</td>\n",
       "      <td>..</td>\n",
       "      <td>/kaggle/input/ben10/ben10/16_kHz_train_audio/t...</td>\n",
       "      <td>barishal</td>\n",
       "      <td>train</td>\n",
       "    </tr>\n",
       "    <tr>\n",
       "      <th>1338</th>\n",
       "      <td>train_barishal (284).wav</td>\n",
       "      <td>..</td>\n",
       "      <td>/kaggle/input/ben10/ben10/16_kHz_train_audio/t...</td>\n",
       "      <td>barishal</td>\n",
       "      <td>train</td>\n",
       "    </tr>\n",
       "  </tbody>\n",
       "</table>\n",
       "</div>"
      ],
      "text/plain": [
       "                     file_name transcripts  \\\n",
       "1329  train_barishal (275).wav          ..   \n",
       "1331  train_barishal (277).wav          ..   \n",
       "1338  train_barishal (284).wav          ..   \n",
       "\n",
       "                                              file_path  district  split  \n",
       "1329  /kaggle/input/ben10/ben10/16_kHz_train_audio/t...  barishal  train  \n",
       "1331  /kaggle/input/ben10/ben10/16_kHz_train_audio/t...  barishal  train  \n",
       "1338  /kaggle/input/ben10/ben10/16_kHz_train_audio/t...  barishal  train  "
      ]
     },
     "execution_count": 7,
     "metadata": {},
     "output_type": "execute_result"
    }
   ],
   "source": [
    "data[data[\"transcripts\"] == \"<>\"]\n",
    "data[data[\"transcripts\"] == \"\"]\n",
    "data[data[\"transcripts\"] == \"..\"]"
   ]
  },
  {
   "cell_type": "code",
   "execution_count": 8,
   "id": "5e69cb78",
   "metadata": {
    "execution": {
     "iopub.execute_input": "2024-04-06T18:01:35.951658Z",
     "iopub.status.busy": "2024-04-06T18:01:35.951131Z",
     "iopub.status.idle": "2024-04-06T18:01:35.979105Z",
     "shell.execute_reply": "2024-04-06T18:01:35.978212Z"
    },
    "papermill": {
     "duration": 0.041177,
     "end_time": "2024-04-06T18:01:35.981097",
     "exception": false,
     "start_time": "2024-04-06T18:01:35.939920",
     "status": "completed"
    },
    "tags": []
   },
   "outputs": [],
   "source": [
    "# print(list(data[data['transcripts'] == ''].index))\n",
    "data.drop(data[data['transcripts'] == ''].index, inplace=True)\n",
    "      \n",
    "# print(list(data[data['transcripts'] == '<>'].index))\n",
    "data.drop(data[data['transcripts'] == \"<>\"].index, inplace=True)\n",
    "      \n",
    "# print(list(data[data['transcripts'] == '..'].index))\n",
    "data.drop(data[data['transcripts'] == \"..\"].index, inplace=True)"
   ]
  },
  {
   "cell_type": "code",
   "execution_count": 9,
   "id": "45e0e33c",
   "metadata": {
    "execution": {
     "iopub.execute_input": "2024-04-06T18:01:36.004012Z",
     "iopub.status.busy": "2024-04-06T18:01:36.003510Z",
     "iopub.status.idle": "2024-04-06T18:01:36.014991Z",
     "shell.execute_reply": "2024-04-06T18:01:36.013500Z"
    },
    "papermill": {
     "duration": 0.024951,
     "end_time": "2024-04-06T18:01:36.017090",
     "exception": false,
     "start_time": "2024-04-06T18:01:35.992139",
     "status": "completed"
    },
    "tags": []
   },
   "outputs": [],
   "source": [
    "data[\"transcripts\"] = data[\"transcripts\"].str.strip()"
   ]
  },
  {
   "cell_type": "code",
   "execution_count": 10,
   "id": "baa7a12d",
   "metadata": {
    "execution": {
     "iopub.execute_input": "2024-04-06T18:01:36.044819Z",
     "iopub.status.busy": "2024-04-06T18:01:36.044082Z",
     "iopub.status.idle": "2024-04-06T18:01:36.048394Z",
     "shell.execute_reply": "2024-04-06T18:01:36.047591Z"
    },
    "papermill": {
     "duration": 0.019315,
     "end_time": "2024-04-06T18:01:36.050425",
     "exception": false,
     "start_time": "2024-04-06T18:01:36.031110",
     "status": "completed"
    },
    "tags": []
   },
   "outputs": [],
   "source": [
    "TASK = \"transcribe\"\n",
    "MODEL_NAME = \"/kaggle/input/bengali-ai-asr-submission/bengali-whisper-medium\""
   ]
  },
  {
   "cell_type": "code",
   "execution_count": 11,
   "id": "abac22cf",
   "metadata": {
    "execution": {
     "iopub.execute_input": "2024-04-06T18:01:36.071488Z",
     "iopub.status.busy": "2024-04-06T18:01:36.071207Z",
     "iopub.status.idle": "2024-04-06T18:01:36.590801Z",
     "shell.execute_reply": "2024-04-06T18:01:36.589905Z"
    },
    "papermill": {
     "duration": 0.532687,
     "end_time": "2024-04-06T18:01:36.593111",
     "exception": false,
     "start_time": "2024-04-06T18:01:36.060424",
     "status": "completed"
    },
    "tags": []
   },
   "outputs": [
    {
     "name": "stderr",
     "output_type": "stream",
     "text": [
      "Special tokens have been added in the vocabulary, make sure the associated word embeddings are fine-tuned or trained.\n",
      "Special tokens have been added in the vocabulary, make sure the associated word embeddings are fine-tuned or trained.\n"
     ]
    }
   ],
   "source": [
    "feature_extractor = WhisperFeatureExtractor.from_pretrained(MODEL_NAME)\n",
    "tokenizer = WhisperTokenizer.from_pretrained(MODEL_NAME, language='bn', task=TASK)\n",
    "processor = WhisperProcessor.from_pretrained(MODEL_NAME, language='bn', task=TASK)"
   ]
  },
  {
   "cell_type": "code",
   "execution_count": 12,
   "id": "fa7172d4",
   "metadata": {
    "execution": {
     "iopub.execute_input": "2024-04-06T18:01:36.617364Z",
     "iopub.status.busy": "2024-04-06T18:01:36.616700Z",
     "iopub.status.idle": "2024-04-06T18:01:36.622762Z",
     "shell.execute_reply": "2024-04-06T18:01:36.621913Z"
    },
    "papermill": {
     "duration": 0.02103,
     "end_time": "2024-04-06T18:01:36.624620",
     "exception": false,
     "start_time": "2024-04-06T18:01:36.603590",
     "status": "completed"
    },
    "tags": []
   },
   "outputs": [
    {
     "data": {
      "text/plain": [
       "[50258, 50302, 50359, 50363, 50257]"
      ]
     },
     "execution_count": 12,
     "metadata": {},
     "output_type": "execute_result"
    }
   ],
   "source": [
    "ids = tokenizer.encode(\"\")\n",
    "ids"
   ]
  },
  {
   "cell_type": "code",
   "execution_count": 13,
   "id": "74190ae9",
   "metadata": {
    "execution": {
     "iopub.execute_input": "2024-04-06T18:01:36.646495Z",
     "iopub.status.busy": "2024-04-06T18:01:36.645945Z",
     "iopub.status.idle": "2024-04-06T18:01:36.653030Z",
     "shell.execute_reply": "2024-04-06T18:01:36.652227Z"
    },
    "papermill": {
     "duration": 0.019987,
     "end_time": "2024-04-06T18:01:36.654873",
     "exception": false,
     "start_time": "2024-04-06T18:01:36.634886",
     "status": "completed"
    },
    "tags": []
   },
   "outputs": [
    {
     "data": {
      "text/plain": [
       "'<|startoftranscript|><|bn|><|transcribe|><|notimestamps|><|endoftext|>'"
      ]
     },
     "execution_count": 13,
     "metadata": {},
     "output_type": "execute_result"
    }
   ],
   "source": [
    "tokenizer.decode(ids)"
   ]
  },
  {
   "cell_type": "code",
   "execution_count": 14,
   "id": "6d9ec022",
   "metadata": {
    "execution": {
     "iopub.execute_input": "2024-04-06T18:01:36.676884Z",
     "iopub.status.busy": "2024-04-06T18:01:36.676468Z",
     "iopub.status.idle": "2024-04-06T18:01:36.684886Z",
     "shell.execute_reply": "2024-04-06T18:01:36.684065Z"
    },
    "papermill": {
     "duration": 0.021444,
     "end_time": "2024-04-06T18:01:36.686805",
     "exception": false,
     "start_time": "2024-04-06T18:01:36.665361",
     "status": "completed"
    },
    "tags": []
   },
   "outputs": [],
   "source": [
    "@dataclass\n",
    "class DataCollatorSpeechSeq2SeqWithPadding:\n",
    "    processor: Any\n",
    "\n",
    "    def __call__(self, features: List[Dict[str, Union[List[int], torch.Tensor]]]) -> Dict[str, torch.Tensor]:\n",
    "        # split inputs and labels since they have to be of different lengths and need different padding methods\n",
    "        # first treat the audio inputs by simply returning torch tensors\n",
    "        input_features = [{\"input_features\": feature[\"input_features\"]} for feature in features]\n",
    "        batch = self.processor.feature_extractor.pad(input_features, return_tensors=\"pt\")\n",
    "\n",
    "        # get the tokenized label sequences\n",
    "        label_features = [{\"input_ids\": feature[\"labels\"]} for feature in features]\n",
    "        # pad the labels to max length\n",
    "        labels_batch = self.processor.tokenizer.pad(label_features, return_tensors=\"pt\")\n",
    "\n",
    "        # replace padding with -100 to ignore loss correctly\n",
    "        labels = labels_batch[\"input_ids\"].masked_fill(labels_batch.attention_mask.ne(1), -100)\n",
    "\n",
    "        # if bos token is appended in previous tokenization step,\n",
    "        # cut bos token here as it's append later anyways\n",
    "        if (labels[:, 0] == self.processor.tokenizer.bos_token_id).all().cpu().item():\n",
    "            labels = labels[:, 1:]\n",
    "\n",
    "        batch[\"labels\"] = labels\n",
    "        \n",
    "        torch.cuda.empty_cache()\n",
    "\n",
    "        return batch"
   ]
  },
  {
   "cell_type": "code",
   "execution_count": 15,
   "id": "7cdf6b8f",
   "metadata": {
    "execution": {
     "iopub.execute_input": "2024-04-06T18:01:36.708570Z",
     "iopub.status.busy": "2024-04-06T18:01:36.707961Z",
     "iopub.status.idle": "2024-04-06T18:01:36.711602Z",
     "shell.execute_reply": "2024-04-06T18:01:36.710814Z"
    },
    "papermill": {
     "duration": 0.016494,
     "end_time": "2024-04-06T18:01:36.713429",
     "exception": false,
     "start_time": "2024-04-06T18:01:36.696935",
     "status": "completed"
    },
    "tags": []
   },
   "outputs": [],
   "source": [
    "data_collator = DataCollatorSpeechSeq2SeqWithPadding(processor=processor)"
   ]
  },
  {
   "cell_type": "code",
   "execution_count": 16,
   "id": "36a87cfa",
   "metadata": {
    "execution": {
     "iopub.execute_input": "2024-04-06T18:01:36.735155Z",
     "iopub.status.busy": "2024-04-06T18:01:36.734710Z",
     "iopub.status.idle": "2024-04-06T18:01:36.740810Z",
     "shell.execute_reply": "2024-04-06T18:01:36.739997Z"
    },
    "papermill": {
     "duration": 0.018901,
     "end_time": "2024-04-06T18:01:36.742710",
     "exception": false,
     "start_time": "2024-04-06T18:01:36.723809",
     "status": "completed"
    },
    "tags": []
   },
   "outputs": [],
   "source": [
    "def prepare_dataset(example):\n",
    "    audio_path = example[\"file_path\"]\n",
    "    \n",
    "    # load the audio using librosa or torch audio (as you wish)\n",
    "    audio, sr = librosa.load(audio_path, sr=16_000)\n",
    "    \n",
    "    example[\"input_features\"] = feature_extractor(audio, sampling_rate=sr).input_features[0]\n",
    "    \n",
    "    example[\"labels\"] = tokenizer(f\"{example['transcripts']}\", max_length=448, padding=True, truncation=True).input_ids\n",
    "    \n",
    "    return example\n",
    "\n",
    "\n",
    "def filter_inputs(input_audio):\n",
    "    \"\"\"filter inputs with zero input length\"\"\"\n",
    "    return 0 < len(input_audio)\n",
    "\n",
    "\n",
    "def filter_labels(input_labels):\n",
    "    \"\"\"filter empty label sequences\"\"\"\n",
    "    return 0 < len(input_labels)"
   ]
  },
  {
   "cell_type": "code",
   "execution_count": 17,
   "id": "9550d2df",
   "metadata": {
    "execution": {
     "iopub.execute_input": "2024-04-06T18:01:36.764704Z",
     "iopub.status.busy": "2024-04-06T18:01:36.764460Z",
     "iopub.status.idle": "2024-04-06T18:01:36.776877Z",
     "shell.execute_reply": "2024-04-06T18:01:36.776178Z"
    },
    "papermill": {
     "duration": 0.025429,
     "end_time": "2024-04-06T18:01:36.778801",
     "exception": false,
     "start_time": "2024-04-06T18:01:36.753372",
     "status": "completed"
    },
    "tags": []
   },
   "outputs": [],
   "source": [
    "train_df = data[data[\"split\"] == \"train\"]"
   ]
  },
  {
   "cell_type": "code",
   "execution_count": 18,
   "id": "cbfab4ba",
   "metadata": {
    "execution": {
     "iopub.execute_input": "2024-04-06T18:01:36.800608Z",
     "iopub.status.busy": "2024-04-06T18:01:36.800003Z",
     "iopub.status.idle": "2024-04-06T18:01:36.806578Z",
     "shell.execute_reply": "2024-04-06T18:01:36.805889Z"
    },
    "papermill": {
     "duration": 0.019251,
     "end_time": "2024-04-06T18:01:36.808390",
     "exception": false,
     "start_time": "2024-04-06T18:01:36.789139",
     "status": "completed"
    },
    "tags": []
   },
   "outputs": [],
   "source": [
    "\"\"\"\n",
    "    adjust test size accordingly.\n",
    "\"\"\"\n",
    "train_df, eval_df = train_test_split(train_df, test_size=0.01, shuffle=True)"
   ]
  },
  {
   "cell_type": "code",
   "execution_count": 19,
   "id": "e42debe8",
   "metadata": {
    "execution": {
     "iopub.execute_input": "2024-04-06T18:01:36.830187Z",
     "iopub.status.busy": "2024-04-06T18:01:36.829676Z",
     "iopub.status.idle": "2024-04-06T18:01:36.834767Z",
     "shell.execute_reply": "2024-04-06T18:01:36.833922Z"
    },
    "papermill": {
     "duration": 0.018046,
     "end_time": "2024-04-06T18:01:36.836732",
     "exception": false,
     "start_time": "2024-04-06T18:01:36.818686",
     "status": "completed"
    },
    "tags": []
   },
   "outputs": [
    {
     "data": {
      "text/plain": [
       "(13347, 135)"
      ]
     },
     "execution_count": 19,
     "metadata": {},
     "output_type": "execute_result"
    }
   ],
   "source": [
    "len(train_df), len(eval_df)"
   ]
  },
  {
   "cell_type": "code",
   "execution_count": 20,
   "id": "5375e3be",
   "metadata": {
    "execution": {
     "iopub.execute_input": "2024-04-06T18:01:36.858802Z",
     "iopub.status.busy": "2024-04-06T18:01:36.858072Z",
     "iopub.status.idle": "2024-04-06T18:01:36.914188Z",
     "shell.execute_reply": "2024-04-06T18:01:36.913278Z"
    },
    "papermill": {
     "duration": 0.069339,
     "end_time": "2024-04-06T18:01:36.916424",
     "exception": false,
     "start_time": "2024-04-06T18:01:36.847085",
     "status": "completed"
    },
    "tags": []
   },
   "outputs": [],
   "source": [
    "ben_reg_voice_ds = DatasetDict()\n",
    "\n",
    "train_split = DS.from_pandas(train_df)\n",
    "eval_split = DS.from_pandas(eval_df)\n",
    "\n",
    "ds_splits = DatasetDict({\n",
    "    'train': train_split,\n",
    "    'eval': eval_split\n",
    "})"
   ]
  },
  {
   "cell_type": "code",
   "execution_count": 21,
   "id": "a408f125",
   "metadata": {
    "execution": {
     "iopub.execute_input": "2024-04-06T18:01:36.938824Z",
     "iopub.status.busy": "2024-04-06T18:01:36.938561Z",
     "iopub.status.idle": "2024-04-06T18:01:36.945717Z",
     "shell.execute_reply": "2024-04-06T18:01:36.944811Z"
    },
    "papermill": {
     "duration": 0.020348,
     "end_time": "2024-04-06T18:01:36.947531",
     "exception": false,
     "start_time": "2024-04-06T18:01:36.927183",
     "status": "completed"
    },
    "tags": []
   },
   "outputs": [
    {
     "name": "stdout",
     "output_type": "stream",
     "text": [
      "DatasetDict({\n",
      "    train: Dataset({\n",
      "        features: ['file_name', 'transcripts', 'file_path', 'district', '__index_level_0__'],\n",
      "        num_rows: 13347\n",
      "    })\n",
      "    eval: Dataset({\n",
      "        features: ['file_name', 'transcripts', 'file_path', 'district', '__index_level_0__'],\n",
      "        num_rows: 135\n",
      "    })\n",
      "})\n"
     ]
    }
   ],
   "source": [
    "ds_splits = ds_splits.remove_columns([\"split\"])\n",
    "print(ds_splits)"
   ]
  },
  {
   "cell_type": "code",
   "execution_count": 22,
   "id": "4be24de4",
   "metadata": {
    "execution": {
     "iopub.execute_input": "2024-04-06T18:01:36.969360Z",
     "iopub.status.busy": "2024-04-06T18:01:36.969116Z",
     "iopub.status.idle": "2024-04-06T18:01:36.972692Z",
     "shell.execute_reply": "2024-04-06T18:01:36.971924Z"
    },
    "papermill": {
     "duration": 0.016597,
     "end_time": "2024-04-06T18:01:36.974601",
     "exception": false,
     "start_time": "2024-04-06T18:01:36.958004",
     "status": "completed"
    },
    "tags": []
   },
   "outputs": [],
   "source": [
    "np.object = object"
   ]
  },
  {
   "cell_type": "code",
   "execution_count": 23,
   "id": "075856cb",
   "metadata": {
    "execution": {
     "iopub.execute_input": "2024-04-06T18:01:36.996852Z",
     "iopub.status.busy": "2024-04-06T18:01:36.996395Z",
     "iopub.status.idle": "2024-04-06T18:07:07.261063Z",
     "shell.execute_reply": "2024-04-06T18:07:07.260048Z"
    },
    "papermill": {
     "duration": 330.278257,
     "end_time": "2024-04-06T18:07:07.263514",
     "exception": false,
     "start_time": "2024-04-06T18:01:36.985257",
     "status": "completed"
    },
    "tags": []
   },
   "outputs": [
    {
     "name": "stdout",
     "output_type": "stream",
     "text": [
      "   "
     ]
    },
    {
     "data": {
      "application/vnd.jupyter.widget-view+json": {
       "model_id": "1a5f1c87fb6b449296772d200625ff5e",
       "version_major": 2,
       "version_minor": 0
      },
      "text/plain": [
       "#0:   0%|          | 0/6674 [00:00<?, ?ex/s]"
      ]
     },
     "metadata": {},
     "output_type": "display_data"
    },
    {
     "name": "stdout",
     "output_type": "stream",
     "text": [
      " "
     ]
    },
    {
     "data": {
      "application/vnd.jupyter.widget-view+json": {
       "model_id": "f1c11398b32b4a80a527b3b1677b0693",
       "version_major": 2,
       "version_minor": 0
      },
      "text/plain": [
       "#1:   0%|          | 0/6673 [00:00<?, ?ex/s]"
      ]
     },
     "metadata": {},
     "output_type": "display_data"
    },
    {
     "name": "stdout",
     "output_type": "stream",
     "text": [
      "    "
     ]
    },
    {
     "data": {
      "application/vnd.jupyter.widget-view+json": {
       "model_id": "76de107be486405b987d73b50cf7817e",
       "version_major": 2,
       "version_minor": 0
      },
      "text/plain": [
       "#0:   0%|          | 0/68 [00:00<?, ?ex/s]"
      ]
     },
     "metadata": {},
     "output_type": "display_data"
    },
    {
     "data": {
      "application/vnd.jupyter.widget-view+json": {
       "model_id": "5c1ace83536140179096f2d71fa87f81",
       "version_major": 2,
       "version_minor": 0
      },
      "text/plain": [
       "#1:   0%|          | 0/67 [00:00<?, ?ex/s]"
      ]
     },
     "metadata": {},
     "output_type": "display_data"
    }
   ],
   "source": [
    "ds_splits = ds_splits.map(prepare_dataset, remove_columns=ds_splits.column_names[\"train\"],\n",
    "                          num_proc=2 # open for multithreadding\n",
    ")"
   ]
  },
  {
   "cell_type": "code",
   "execution_count": 24,
   "id": "c05da91e",
   "metadata": {
    "execution": {
     "iopub.execute_input": "2024-04-06T18:07:07.289508Z",
     "iopub.status.busy": "2024-04-06T18:07:07.289173Z",
     "iopub.status.idle": "2024-04-06T18:07:07.295571Z",
     "shell.execute_reply": "2024-04-06T18:07:07.294728Z"
    },
    "papermill": {
     "duration": 0.021533,
     "end_time": "2024-04-06T18:07:07.297526",
     "exception": false,
     "start_time": "2024-04-06T18:07:07.275993",
     "status": "completed"
    },
    "tags": []
   },
   "outputs": [
    {
     "data": {
      "text/plain": [
       "(13347, 135)"
      ]
     },
     "execution_count": 24,
     "metadata": {},
     "output_type": "execute_result"
    }
   ],
   "source": [
    "len(ds_splits[\"train\"]), len(ds_splits[\"eval\"])"
   ]
  },
  {
   "cell_type": "code",
   "execution_count": 25,
   "id": "cc17b15e",
   "metadata": {
    "execution": {
     "iopub.execute_input": "2024-04-06T18:07:07.322583Z",
     "iopub.status.busy": "2024-04-06T18:07:07.322299Z",
     "iopub.status.idle": "2024-04-06T18:07:07.333984Z",
     "shell.execute_reply": "2024-04-06T18:07:07.333309Z"
    },
    "papermill": {
     "duration": 0.026078,
     "end_time": "2024-04-06T18:07:07.335822",
     "exception": false,
     "start_time": "2024-04-06T18:07:07.309744",
     "status": "completed"
    },
    "tags": []
   },
   "outputs": [],
   "source": [
    "cer = CharErrorRate()\n",
    "wer = WordErrorRate()"
   ]
  },
  {
   "cell_type": "code",
   "execution_count": 26,
   "id": "63ebc461",
   "metadata": {
    "execution": {
     "iopub.execute_input": "2024-04-06T18:07:07.360494Z",
     "iopub.status.busy": "2024-04-06T18:07:07.360213Z",
     "iopub.status.idle": "2024-04-06T18:07:07.366509Z",
     "shell.execute_reply": "2024-04-06T18:07:07.365672Z"
    },
    "papermill": {
     "duration": 0.020741,
     "end_time": "2024-04-06T18:07:07.368415",
     "exception": false,
     "start_time": "2024-04-06T18:07:07.347674",
     "status": "completed"
    },
    "tags": []
   },
   "outputs": [],
   "source": [
    "def compute_metrics(pred):\n",
    "    pred_ids = pred.predictions\n",
    "    label_ids = pred.label_ids\n",
    "\n",
    "    label_ids[label_ids == -100] = tokenizer.pad_token_id\n",
    "\n",
    "    pred_str = tokenizer.batch_decode(pred_ids, skip_special_tokens=True)\n",
    "    label_str = tokenizer.batch_decode(label_ids, skip_special_tokens=True)\n",
    "\n",
    "    wer_res = wer(pred_str, label_str)\n",
    "    cer_res = cer(pred_str, label_str)\n",
    "    \n",
    "    \"\"\"\n",
    "        uncomment the next 3 lines if you want to see how the examples look like during eval \n",
    "    \"\"\"\n",
    "    print(\"WER:\",wer_res,\"| CER:\", cer_res) # to show up during running logs\n",
    "    print(\"Pred:\",pred_str[0])\n",
    "    print(\"Label:\",label_str[0])\n",
    "    \n",
    "    return {\"wer\": wer_res, \"cer\": cer_res}"
   ]
  },
  {
   "cell_type": "code",
   "execution_count": 27,
   "id": "960b3753",
   "metadata": {
    "execution": {
     "iopub.execute_input": "2024-04-06T18:07:07.393151Z",
     "iopub.status.busy": "2024-04-06T18:07:07.392907Z",
     "iopub.status.idle": "2024-04-06T18:07:45.868604Z",
     "shell.execute_reply": "2024-04-06T18:07:45.867768Z"
    },
    "papermill": {
     "duration": 38.490619,
     "end_time": "2024-04-06T18:07:45.870976",
     "exception": false,
     "start_time": "2024-04-06T18:07:07.380357",
     "status": "completed"
    },
    "tags": []
   },
   "outputs": [
    {
     "name": "stderr",
     "output_type": "stream",
     "text": [
      "/opt/conda/lib/python3.10/site-packages/torch/_utils.py:831: UserWarning: TypedStorage is deprecated. It will be removed in the future and UntypedStorage will be the only storage class. This should only matter to you if you are using storages directly.  To access UntypedStorage directly, use tensor.untyped_storage() instead of tensor.storage()\n",
      "  return self.fget.__get__(instance, owner)()\n"
     ]
    }
   ],
   "source": [
    "model = WhisperForConditionalGeneration.from_pretrained(MODEL_NAME, device_map=\"auto\")"
   ]
  },
  {
   "cell_type": "code",
   "execution_count": 28,
   "id": "58181c33",
   "metadata": {
    "execution": {
     "iopub.execute_input": "2024-04-06T18:07:45.896715Z",
     "iopub.status.busy": "2024-04-06T18:07:45.896384Z",
     "iopub.status.idle": "2024-04-06T18:07:45.900334Z",
     "shell.execute_reply": "2024-04-06T18:07:45.899497Z"
    },
    "papermill": {
     "duration": 0.018735,
     "end_time": "2024-04-06T18:07:45.902291",
     "exception": false,
     "start_time": "2024-04-06T18:07:45.883556",
     "status": "completed"
    },
    "tags": []
   },
   "outputs": [],
   "source": [
    "model_id = \"whisper-reg-ben\" #you can use different model from hugging face "
   ]
  },
  {
   "cell_type": "code",
   "execution_count": 29,
   "id": "012b15e8",
   "metadata": {
    "execution": {
     "iopub.execute_input": "2024-04-06T18:07:45.927568Z",
     "iopub.status.busy": "2024-04-06T18:07:45.927283Z",
     "iopub.status.idle": "2024-04-06T18:07:45.934448Z",
     "shell.execute_reply": "2024-04-06T18:07:45.933732Z"
    },
    "papermill": {
     "duration": 0.021929,
     "end_time": "2024-04-06T18:07:45.936228",
     "exception": false,
     "start_time": "2024-04-06T18:07:45.914299",
     "status": "completed"
    },
    "tags": []
   },
   "outputs": [],
   "source": [
    "#finetune this hyperparameter for getting the better result\n",
    "\n",
    "training_args = Seq2SeqTrainingArguments(\n",
    "    output_dir=model_id,\n",
    "    per_device_train_batch_size=2,\n",
    "    per_device_eval_batch_size=2,\n",
    "    gradient_accumulation_steps=1,\n",
    "    gradient_checkpointing=True,\n",
    "    fp16=True,\n",
    "    learning_rate=3e-4,\n",
    "    weight_decay=1e-2,\n",
    "    warmup_steps=1000,\n",
    "    num_train_epochs=1,\n",
    "    evaluation_strategy=\"steps\", # or \"epochs\"\n",
    "    predict_with_generate=True,\n",
    "#     generation_max_length=448,\n",
    "    save_steps=10000,\n",
    "    eval_steps=10000,\n",
    "    logging_steps=10000,\n",
    "    save_total_limit=1,\n",
    "    load_best_model_at_end=True,\n",
    "    metric_for_best_model=\"wer\",\n",
    "    greater_is_better=False,\n",
    "    push_to_hub=False,\n",
    "    report_to=\"none\",\n",
    "    remove_unused_columns=False,\n",
    ")"
   ]
  },
  {
   "cell_type": "code",
   "execution_count": 30,
   "id": "aa02d53b",
   "metadata": {
    "execution": {
     "iopub.execute_input": "2024-04-06T18:07:45.961244Z",
     "iopub.status.busy": "2024-04-06T18:07:45.960984Z",
     "iopub.status.idle": "2024-04-06T18:07:45.965155Z",
     "shell.execute_reply": "2024-04-06T18:07:45.964393Z"
    },
    "papermill": {
     "duration": 0.018766,
     "end_time": "2024-04-06T18:07:45.967002",
     "exception": false,
     "start_time": "2024-04-06T18:07:45.948236",
     "status": "completed"
    },
    "tags": []
   },
   "outputs": [],
   "source": [
    "model.generation_config.language = \"bn\"\n",
    "model.generation_config.task = \"transcribe\"\n",
    "\n",
    "model.generation_config.forced_decoder_ids = None\n",
    "model.config.suppress_tokens = [] # added later"
   ]
  },
  {
   "cell_type": "code",
   "execution_count": 31,
   "id": "e878bf8d",
   "metadata": {
    "execution": {
     "iopub.execute_input": "2024-04-06T18:07:45.992071Z",
     "iopub.status.busy": "2024-04-06T18:07:45.991825Z",
     "iopub.status.idle": "2024-04-06T18:07:46.019509Z",
     "shell.execute_reply": "2024-04-06T18:07:46.018639Z"
    },
    "papermill": {
     "duration": 0.042536,
     "end_time": "2024-04-06T18:07:46.021462",
     "exception": false,
     "start_time": "2024-04-06T18:07:45.978926",
     "status": "completed"
    },
    "tags": []
   },
   "outputs": [
    {
     "name": "stderr",
     "output_type": "stream",
     "text": [
      "/opt/conda/lib/python3.10/site-packages/accelerate/accelerator.py:432: FutureWarning: Passing the following arguments to `Accelerator` is deprecated and will be removed in version 1.0 of Accelerate: dict_keys(['dispatch_batches', 'split_batches', 'even_batches', 'use_seedable_sampler']). Please pass an `accelerate.DataLoaderConfiguration` instead: \n",
      "dataloader_config = DataLoaderConfiguration(dispatch_batches=None, split_batches=False, even_batches=True, use_seedable_sampler=True)\n",
      "  warnings.warn(\n"
     ]
    }
   ],
   "source": [
    "trainer = Seq2SeqTrainer(\n",
    "    args=training_args,\n",
    "    model=model,\n",
    "    train_dataset=ds_splits[\"train\"],\n",
    "    eval_dataset=ds_splits[\"eval\"],\n",
    "    data_collator=data_collator,\n",
    "    tokenizer=processor.feature_extractor,\n",
    "    compute_metrics=compute_metrics,\n",
    "#     callbacks=[EarlyStoppingCallback(2, 1.0)]\n",
    ")"
   ]
  },
  {
   "cell_type": "code",
   "execution_count": 32,
   "id": "325d416a",
   "metadata": {
    "execution": {
     "iopub.execute_input": "2024-04-06T18:07:46.046862Z",
     "iopub.status.busy": "2024-04-06T18:07:46.046349Z",
     "iopub.status.idle": "2024-04-06T23:25:10.841201Z",
     "shell.execute_reply": "2024-04-06T23:25:10.840247Z"
    },
    "papermill": {
     "duration": 19044.860112,
     "end_time": "2024-04-06T23:25:10.893716",
     "exception": false,
     "start_time": "2024-04-06T18:07:46.033604",
     "status": "completed"
    },
    "tags": []
   },
   "outputs": [
    {
     "name": "stderr",
     "output_type": "stream",
     "text": [
      "/opt/conda/lib/python3.10/site-packages/torch/utils/checkpoint.py:429: UserWarning: torch.utils.checkpoint: please pass in use_reentrant=True or use_reentrant=False explicitly. The default value of use_reentrant will be updated to be False in the future. To maintain current behavior, pass use_reentrant=True. It is recommended that you use use_reentrant=False. Refer to docs for more details on the differences between the two variants.\n",
      "  warnings.warn(\n",
      "`use_cache = True` is incompatible with gradient checkpointing. Setting `use_cache = False`...\n"
     ]
    },
    {
     "data": {
      "text/html": [
       "\n",
       "    <div>\n",
       "      \n",
       "      <progress value='6674' max='6674' style='width:300px; height:20px; vertical-align: middle;'></progress>\n",
       "      [6674/6674 5:17:10, Epoch 1/1]\n",
       "    </div>\n",
       "    <table border=\"1\" class=\"dataframe\">\n",
       "  <thead>\n",
       " <tr style=\"text-align: left;\">\n",
       "      <th>Step</th>\n",
       "      <th>Training Loss</th>\n",
       "      <th>Validation Loss</th>\n",
       "    </tr>\n",
       "  </thead>\n",
       "  <tbody>\n",
       "  </tbody>\n",
       "</table><p>"
      ],
      "text/plain": [
       "<IPython.core.display.HTML object>"
      ]
     },
     "metadata": {},
     "output_type": "display_data"
    },
    {
     "name": "stderr",
     "output_type": "stream",
     "text": [
      "Some non-default generation parameters are set in the model config. These should go into a GenerationConfig file (https://huggingface.co/docs/transformers/generation_strategies#save-a-custom-decoding-strategy-with-your-model) instead. This warning will be raised to an exception in v4.41.\n",
      "Non-default generation parameters: {'max_length': 448, 'suppress_tokens': [], 'begin_suppress_tokens': [220, 50257]}\n",
      "Your generation config was originally created from the model config, but the model config has changed since then. Unless you pass the `generation_config` argument to this model's `generate` calls, they will revert to the legacy behavior where the base `generate` parameterization is loaded from the model config instead. To avoid this behavior and this warning, we recommend you to overwrite the generation config model attribute before calling the model's `save_pretrained`, preferably also removing any generation kwargs from the model config. This warning will be raised to an exception in v4.41.\n"
     ]
    },
    {
     "data": {
      "text/plain": [
       "[]"
      ]
     },
     "execution_count": 32,
     "metadata": {},
     "output_type": "execute_result"
    }
   ],
   "source": [
    "trainer.train()\n",
    "\n",
    "# to use the high-level pipeline, ensure both the processor outputs and model outputs exist in the same dir\n",
    "trainer.save_model(training_args.output_dir)\n",
    "processor.save_pretrained(training_args.output_dir)\n"
   ]
  },
  {
   "cell_type": "markdown",
   "id": "98579a13",
   "metadata": {
    "papermill": {
     "duration": 5.937437,
     "end_time": "2024-04-06T23:25:16.877146",
     "exception": false,
     "start_time": "2024-04-06T23:25:10.939709",
     "status": "completed"
    },
    "tags": []
   },
   "source": [
    "<h1> go to output of the notebook you can find your best model .just create dataset just clicking on the three dot.then use that in inference notebook. inference notebook :<a href=\"\">Click here</a></h1>"
   ]
  }
 ],
 "metadata": {
  "kaggle": {
   "accelerator": "gpu",
   "dataSources": [
    {
     "databundleVersionId": 8149390,
     "sourceId": 73047,
     "sourceType": "competition"
    },
    {
     "datasetId": 3865741,
     "sourceId": 6707460,
     "sourceType": "datasetVersion"
    }
   ],
   "dockerImageVersionId": 30674,
   "isGpuEnabled": true,
   "isInternetEnabled": true,
   "language": "python",
   "sourceType": "notebook"
  },
  "kernelspec": {
   "display_name": "Python 3",
   "language": "python",
   "name": "python3"
  },
  "language_info": {
   "codemirror_mode": {
    "name": "ipython",
    "version": 3
   },
   "file_extension": ".py",
   "mimetype": "text/x-python",
   "name": "python",
   "nbconvert_exporter": "python",
   "pygments_lexer": "ipython3",
   "version": "3.10.13"
  },
  "papermill": {
   "default_parameters": {},
   "duration": 19475.815089,
   "end_time": "2024-04-06T23:25:21.015741",
   "environment_variables": {},
   "exception": null,
   "input_path": "__notebook__.ipynb",
   "output_path": "__notebook__.ipynb",
   "parameters": {},
   "start_time": "2024-04-06T18:00:45.200652",
   "version": "2.5.0"
  },
  "widgets": {
   "application/vnd.jupyter.widget-state+json": {
    "state": {
     "054673e5199845a4a527afa0f52910df": {
      "model_module": "@jupyter-widgets/base",
      "model_module_version": "1.2.0",
      "model_name": "LayoutModel",
      "state": {
       "_model_module": "@jupyter-widgets/base",
       "_model_module_version": "1.2.0",
       "_model_name": "LayoutModel",
       "_view_count": null,
       "_view_module": "@jupyter-widgets/base",
       "_view_module_version": "1.2.0",
       "_view_name": "LayoutView",
       "align_content": null,
       "align_items": null,
       "align_self": null,
       "border": null,
       "bottom": null,
       "display": null,
       "flex": null,
       "flex_flow": null,
       "grid_area": null,
       "grid_auto_columns": null,
       "grid_auto_flow": null,
       "grid_auto_rows": null,
       "grid_column": null,
       "grid_gap": null,
       "grid_row": null,
       "grid_template_areas": null,
       "grid_template_columns": null,
       "grid_template_rows": null,
       "height": null,
       "justify_content": null,
       "justify_items": null,
       "left": null,
       "margin": null,
       "max_height": null,
       "max_width": null,
       "min_height": null,
       "min_width": null,
       "object_fit": null,
       "object_position": null,
       "order": null,
       "overflow": null,
       "overflow_x": null,
       "overflow_y": null,
       "padding": null,
       "right": null,
       "top": null,
       "visibility": null,
       "width": null
      }
     },
     "144bca47fcc24cbeae320cb91a9d7a04": {
      "model_module": "@jupyter-widgets/base",
      "model_module_version": "1.2.0",
      "model_name": "LayoutModel",
      "state": {
       "_model_module": "@jupyter-widgets/base",
       "_model_module_version": "1.2.0",
       "_model_name": "LayoutModel",
       "_view_count": null,
       "_view_module": "@jupyter-widgets/base",
       "_view_module_version": "1.2.0",
       "_view_name": "LayoutView",
       "align_content": null,
       "align_items": null,
       "align_self": null,
       "border": null,
       "bottom": null,
       "display": null,
       "flex": null,
       "flex_flow": null,
       "grid_area": null,
       "grid_auto_columns": null,
       "grid_auto_flow": null,
       "grid_auto_rows": null,
       "grid_column": null,
       "grid_gap": null,
       "grid_row": null,
       "grid_template_areas": null,
       "grid_template_columns": null,
       "grid_template_rows": null,
       "height": null,
       "justify_content": null,
       "justify_items": null,
       "left": null,
       "margin": null,
       "max_height": null,
       "max_width": null,
       "min_height": null,
       "min_width": null,
       "object_fit": null,
       "object_position": null,
       "order": null,
       "overflow": null,
       "overflow_x": null,
       "overflow_y": null,
       "padding": null,
       "right": null,
       "top": null,
       "visibility": null,
       "width": null
      }
     },
     "1a5f1c87fb6b449296772d200625ff5e": {
      "model_module": "@jupyter-widgets/controls",
      "model_module_version": "1.5.0",
      "model_name": "HBoxModel",
      "state": {
       "_dom_classes": [],
       "_model_module": "@jupyter-widgets/controls",
       "_model_module_version": "1.5.0",
       "_model_name": "HBoxModel",
       "_view_count": null,
       "_view_module": "@jupyter-widgets/controls",
       "_view_module_version": "1.5.0",
       "_view_name": "HBoxView",
       "box_style": "",
       "children": [
        "IPY_MODEL_653e54ed2fa64c9cbad9bf10d2685f29",
        "IPY_MODEL_55d0190232394b6ca8ecbb3bc0b302ce",
        "IPY_MODEL_312c667078ff41418b5d85ea538f85f4"
       ],
       "layout": "IPY_MODEL_568a47bbf44f4fe08268e0c19a49464e"
      }
     },
     "1d2cee9bc41b471a8460416bc99a50d1": {
      "model_module": "@jupyter-widgets/controls",
      "model_module_version": "1.5.0",
      "model_name": "DescriptionStyleModel",
      "state": {
       "_model_module": "@jupyter-widgets/controls",
       "_model_module_version": "1.5.0",
       "_model_name": "DescriptionStyleModel",
       "_view_count": null,
       "_view_module": "@jupyter-widgets/base",
       "_view_module_version": "1.2.0",
       "_view_name": "StyleView",
       "description_width": ""
      }
     },
     "2625debe68f447fc97ef5dcf49c13265": {
      "model_module": "@jupyter-widgets/base",
      "model_module_version": "1.2.0",
      "model_name": "LayoutModel",
      "state": {
       "_model_module": "@jupyter-widgets/base",
       "_model_module_version": "1.2.0",
       "_model_name": "LayoutModel",
       "_view_count": null,
       "_view_module": "@jupyter-widgets/base",
       "_view_module_version": "1.2.0",
       "_view_name": "LayoutView",
       "align_content": null,
       "align_items": null,
       "align_self": null,
       "border": null,
       "bottom": null,
       "display": null,
       "flex": null,
       "flex_flow": null,
       "grid_area": null,
       "grid_auto_columns": null,
       "grid_auto_flow": null,
       "grid_auto_rows": null,
       "grid_column": null,
       "grid_gap": null,
       "grid_row": null,
       "grid_template_areas": null,
       "grid_template_columns": null,
       "grid_template_rows": null,
       "height": null,
       "justify_content": null,
       "justify_items": null,
       "left": null,
       "margin": null,
       "max_height": null,
       "max_width": null,
       "min_height": null,
       "min_width": null,
       "object_fit": null,
       "object_position": null,
       "order": null,
       "overflow": null,
       "overflow_x": null,
       "overflow_y": null,
       "padding": null,
       "right": null,
       "top": null,
       "visibility": null,
       "width": null
      }
     },
     "312c667078ff41418b5d85ea538f85f4": {
      "model_module": "@jupyter-widgets/controls",
      "model_module_version": "1.5.0",
      "model_name": "HTMLModel",
      "state": {
       "_dom_classes": [],
       "_model_module": "@jupyter-widgets/controls",
       "_model_module_version": "1.5.0",
       "_model_name": "HTMLModel",
       "_view_count": null,
       "_view_module": "@jupyter-widgets/controls",
       "_view_module_version": "1.5.0",
       "_view_name": "HTMLView",
       "description": "",
       "description_tooltip": null,
       "layout": "IPY_MODEL_2625debe68f447fc97ef5dcf49c13265",
       "placeholder": "​",
       "style": "IPY_MODEL_33d9693d9c564dbb92bf45704dd3a81a",
       "value": " 6674/6674 [03:45&lt;00:00, 34.04ex/s]"
      }
     },
     "33d9693d9c564dbb92bf45704dd3a81a": {
      "model_module": "@jupyter-widgets/controls",
      "model_module_version": "1.5.0",
      "model_name": "DescriptionStyleModel",
      "state": {
       "_model_module": "@jupyter-widgets/controls",
       "_model_module_version": "1.5.0",
       "_model_name": "DescriptionStyleModel",
       "_view_count": null,
       "_view_module": "@jupyter-widgets/base",
       "_view_module_version": "1.2.0",
       "_view_name": "StyleView",
       "description_width": ""
      }
     },
     "3ac64d2d1314438e9662a65f0d0f7875": {
      "model_module": "@jupyter-widgets/controls",
      "model_module_version": "1.5.0",
      "model_name": "HTMLModel",
      "state": {
       "_dom_classes": [],
       "_model_module": "@jupyter-widgets/controls",
       "_model_module_version": "1.5.0",
       "_model_name": "HTMLModel",
       "_view_count": null,
       "_view_module": "@jupyter-widgets/controls",
       "_view_module_version": "1.5.0",
       "_view_name": "HTMLView",
       "description": "",
       "description_tooltip": null,
       "layout": "IPY_MODEL_054673e5199845a4a527afa0f52910df",
       "placeholder": "​",
       "style": "IPY_MODEL_516a4ca56cdb4833bf9dc744120cc0a8",
       "value": " 67/67 [00:04&lt;00:00, 33.82ex/s]"
      }
     },
     "3bfcac5091e14fa6856199d9c0ccfc29": {
      "model_module": "@jupyter-widgets/controls",
      "model_module_version": "1.5.0",
      "model_name": "ProgressStyleModel",
      "state": {
       "_model_module": "@jupyter-widgets/controls",
       "_model_module_version": "1.5.0",
       "_model_name": "ProgressStyleModel",
       "_view_count": null,
       "_view_module": "@jupyter-widgets/base",
       "_view_module_version": "1.2.0",
       "_view_name": "StyleView",
       "bar_color": null,
       "description_width": ""
      }
     },
     "3cd12d54cb4141c6b488f5b70e04935a": {
      "model_module": "@jupyter-widgets/controls",
      "model_module_version": "1.5.0",
      "model_name": "ProgressStyleModel",
      "state": {
       "_model_module": "@jupyter-widgets/controls",
       "_model_module_version": "1.5.0",
       "_model_name": "ProgressStyleModel",
       "_view_count": null,
       "_view_module": "@jupyter-widgets/base",
       "_view_module_version": "1.2.0",
       "_view_name": "StyleView",
       "bar_color": null,
       "description_width": ""
      }
     },
     "3fb654754f974699b17c8c93d731875e": {
      "model_module": "@jupyter-widgets/controls",
      "model_module_version": "1.5.0",
      "model_name": "DescriptionStyleModel",
      "state": {
       "_model_module": "@jupyter-widgets/controls",
       "_model_module_version": "1.5.0",
       "_model_name": "DescriptionStyleModel",
       "_view_count": null,
       "_view_module": "@jupyter-widgets/base",
       "_view_module_version": "1.2.0",
       "_view_name": "StyleView",
       "description_width": ""
      }
     },
     "42c74da104ba4c7ba56a9c918d22e74e": {
      "model_module": "@jupyter-widgets/base",
      "model_module_version": "1.2.0",
      "model_name": "LayoutModel",
      "state": {
       "_model_module": "@jupyter-widgets/base",
       "_model_module_version": "1.2.0",
       "_model_name": "LayoutModel",
       "_view_count": null,
       "_view_module": "@jupyter-widgets/base",
       "_view_module_version": "1.2.0",
       "_view_name": "LayoutView",
       "align_content": null,
       "align_items": null,
       "align_self": null,
       "border": null,
       "bottom": null,
       "display": null,
       "flex": null,
       "flex_flow": null,
       "grid_area": null,
       "grid_auto_columns": null,
       "grid_auto_flow": null,
       "grid_auto_rows": null,
       "grid_column": null,
       "grid_gap": null,
       "grid_row": null,
       "grid_template_areas": null,
       "grid_template_columns": null,
       "grid_template_rows": null,
       "height": null,
       "justify_content": null,
       "justify_items": null,
       "left": null,
       "margin": null,
       "max_height": null,
       "max_width": null,
       "min_height": null,
       "min_width": null,
       "object_fit": null,
       "object_position": null,
       "order": null,
       "overflow": null,
       "overflow_x": null,
       "overflow_y": null,
       "padding": null,
       "right": null,
       "top": null,
       "visibility": null,
       "width": null
      }
     },
     "43bb377e2231417f8f219a240235167b": {
      "model_module": "@jupyter-widgets/controls",
      "model_module_version": "1.5.0",
      "model_name": "FloatProgressModel",
      "state": {
       "_dom_classes": [],
       "_model_module": "@jupyter-widgets/controls",
       "_model_module_version": "1.5.0",
       "_model_name": "FloatProgressModel",
       "_view_count": null,
       "_view_module": "@jupyter-widgets/controls",
       "_view_module_version": "1.5.0",
       "_view_name": "ProgressView",
       "bar_style": "success",
       "description": "",
       "description_tooltip": null,
       "layout": "IPY_MODEL_a1dc0875f8a74b13bc55b5fc1abe0b39",
       "max": 67.0,
       "min": 0.0,
       "orientation": "horizontal",
       "style": "IPY_MODEL_5adcda543bf042a68b878c4c5cdcba2b",
       "value": 67.0
      }
     },
     "44014155d9914e9ea817770efc281a06": {
      "model_module": "@jupyter-widgets/base",
      "model_module_version": "1.2.0",
      "model_name": "LayoutModel",
      "state": {
       "_model_module": "@jupyter-widgets/base",
       "_model_module_version": "1.2.0",
       "_model_name": "LayoutModel",
       "_view_count": null,
       "_view_module": "@jupyter-widgets/base",
       "_view_module_version": "1.2.0",
       "_view_name": "LayoutView",
       "align_content": null,
       "align_items": null,
       "align_self": null,
       "border": null,
       "bottom": null,
       "display": null,
       "flex": null,
       "flex_flow": null,
       "grid_area": null,
       "grid_auto_columns": null,
       "grid_auto_flow": null,
       "grid_auto_rows": null,
       "grid_column": null,
       "grid_gap": null,
       "grid_row": null,
       "grid_template_areas": null,
       "grid_template_columns": null,
       "grid_template_rows": null,
       "height": null,
       "justify_content": null,
       "justify_items": null,
       "left": null,
       "margin": null,
       "max_height": null,
       "max_width": null,
       "min_height": null,
       "min_width": null,
       "object_fit": null,
       "object_position": null,
       "order": null,
       "overflow": null,
       "overflow_x": null,
       "overflow_y": null,
       "padding": null,
       "right": null,
       "top": null,
       "visibility": null,
       "width": null
      }
     },
     "4690b53835b049648da9e9aac363aa14": {
      "model_module": "@jupyter-widgets/base",
      "model_module_version": "1.2.0",
      "model_name": "LayoutModel",
      "state": {
       "_model_module": "@jupyter-widgets/base",
       "_model_module_version": "1.2.0",
       "_model_name": "LayoutModel",
       "_view_count": null,
       "_view_module": "@jupyter-widgets/base",
       "_view_module_version": "1.2.0",
       "_view_name": "LayoutView",
       "align_content": null,
       "align_items": null,
       "align_self": null,
       "border": null,
       "bottom": null,
       "display": null,
       "flex": null,
       "flex_flow": null,
       "grid_area": null,
       "grid_auto_columns": null,
       "grid_auto_flow": null,
       "grid_auto_rows": null,
       "grid_column": null,
       "grid_gap": null,
       "grid_row": null,
       "grid_template_areas": null,
       "grid_template_columns": null,
       "grid_template_rows": null,
       "height": null,
       "justify_content": null,
       "justify_items": null,
       "left": null,
       "margin": null,
       "max_height": null,
       "max_width": null,
       "min_height": null,
       "min_width": null,
       "object_fit": null,
       "object_position": null,
       "order": null,
       "overflow": null,
       "overflow_x": null,
       "overflow_y": null,
       "padding": null,
       "right": null,
       "top": null,
       "visibility": null,
       "width": null
      }
     },
     "516a4ca56cdb4833bf9dc744120cc0a8": {
      "model_module": "@jupyter-widgets/controls",
      "model_module_version": "1.5.0",
      "model_name": "DescriptionStyleModel",
      "state": {
       "_model_module": "@jupyter-widgets/controls",
       "_model_module_version": "1.5.0",
       "_model_name": "DescriptionStyleModel",
       "_view_count": null,
       "_view_module": "@jupyter-widgets/base",
       "_view_module_version": "1.2.0",
       "_view_name": "StyleView",
       "description_width": ""
      }
     },
     "55d0190232394b6ca8ecbb3bc0b302ce": {
      "model_module": "@jupyter-widgets/controls",
      "model_module_version": "1.5.0",
      "model_name": "FloatProgressModel",
      "state": {
       "_dom_classes": [],
       "_model_module": "@jupyter-widgets/controls",
       "_model_module_version": "1.5.0",
       "_model_name": "FloatProgressModel",
       "_view_count": null,
       "_view_module": "@jupyter-widgets/controls",
       "_view_module_version": "1.5.0",
       "_view_name": "ProgressView",
       "bar_style": "success",
       "description": "",
       "description_tooltip": null,
       "layout": "IPY_MODEL_c69ec83b9d744500add79d6cde76fd06",
       "max": 6674.0,
       "min": 0.0,
       "orientation": "horizontal",
       "style": "IPY_MODEL_7e28e72aeba34bc8ae3384bb749cead5",
       "value": 6674.0
      }
     },
     "568a47bbf44f4fe08268e0c19a49464e": {
      "model_module": "@jupyter-widgets/base",
      "model_module_version": "1.2.0",
      "model_name": "LayoutModel",
      "state": {
       "_model_module": "@jupyter-widgets/base",
       "_model_module_version": "1.2.0",
       "_model_name": "LayoutModel",
       "_view_count": null,
       "_view_module": "@jupyter-widgets/base",
       "_view_module_version": "1.2.0",
       "_view_name": "LayoutView",
       "align_content": null,
       "align_items": null,
       "align_self": null,
       "border": null,
       "bottom": null,
       "display": null,
       "flex": null,
       "flex_flow": null,
       "grid_area": null,
       "grid_auto_columns": null,
       "grid_auto_flow": null,
       "grid_auto_rows": null,
       "grid_column": null,
       "grid_gap": null,
       "grid_row": null,
       "grid_template_areas": null,
       "grid_template_columns": null,
       "grid_template_rows": null,
       "height": null,
       "justify_content": null,
       "justify_items": null,
       "left": null,
       "margin": null,
       "max_height": null,
       "max_width": null,
       "min_height": null,
       "min_width": null,
       "object_fit": null,
       "object_position": null,
       "order": null,
       "overflow": null,
       "overflow_x": null,
       "overflow_y": null,
       "padding": null,
       "right": null,
       "top": null,
       "visibility": null,
       "width": null
      }
     },
     "572c5b4f121b418399cdf1966252057a": {
      "model_module": "@jupyter-widgets/controls",
      "model_module_version": "1.5.0",
      "model_name": "HTMLModel",
      "state": {
       "_dom_classes": [],
       "_model_module": "@jupyter-widgets/controls",
       "_model_module_version": "1.5.0",
       "_model_name": "HTMLModel",
       "_view_count": null,
       "_view_module": "@jupyter-widgets/controls",
       "_view_module_version": "1.5.0",
       "_view_name": "HTMLView",
       "description": "",
       "description_tooltip": null,
       "layout": "IPY_MODEL_42c74da104ba4c7ba56a9c918d22e74e",
       "placeholder": "​",
       "style": "IPY_MODEL_dabf55c2cc46462db6bff8fc15648fe8",
       "value": "#1: 100%"
      }
     },
     "5adcda543bf042a68b878c4c5cdcba2b": {
      "model_module": "@jupyter-widgets/controls",
      "model_module_version": "1.5.0",
      "model_name": "ProgressStyleModel",
      "state": {
       "_model_module": "@jupyter-widgets/controls",
       "_model_module_version": "1.5.0",
       "_model_name": "ProgressStyleModel",
       "_view_count": null,
       "_view_module": "@jupyter-widgets/base",
       "_view_module_version": "1.2.0",
       "_view_name": "StyleView",
       "bar_color": null,
       "description_width": ""
      }
     },
     "5c1ace83536140179096f2d71fa87f81": {
      "model_module": "@jupyter-widgets/controls",
      "model_module_version": "1.5.0",
      "model_name": "HBoxModel",
      "state": {
       "_dom_classes": [],
       "_model_module": "@jupyter-widgets/controls",
       "_model_module_version": "1.5.0",
       "_model_name": "HBoxModel",
       "_view_count": null,
       "_view_module": "@jupyter-widgets/controls",
       "_view_module_version": "1.5.0",
       "_view_name": "HBoxView",
       "box_style": "",
       "children": [
        "IPY_MODEL_572c5b4f121b418399cdf1966252057a",
        "IPY_MODEL_43bb377e2231417f8f219a240235167b",
        "IPY_MODEL_3ac64d2d1314438e9662a65f0d0f7875"
       ],
       "layout": "IPY_MODEL_d3ddb2afdb6b44d69b748914553e18ba"
      }
     },
     "653e54ed2fa64c9cbad9bf10d2685f29": {
      "model_module": "@jupyter-widgets/controls",
      "model_module_version": "1.5.0",
      "model_name": "HTMLModel",
      "state": {
       "_dom_classes": [],
       "_model_module": "@jupyter-widgets/controls",
       "_model_module_version": "1.5.0",
       "_model_name": "HTMLModel",
       "_view_count": null,
       "_view_module": "@jupyter-widgets/controls",
       "_view_module_version": "1.5.0",
       "_view_name": "HTMLView",
       "description": "",
       "description_tooltip": null,
       "layout": "IPY_MODEL_808bf647a2cc48caaeecb57b304f4ab5",
       "placeholder": "​",
       "style": "IPY_MODEL_3fb654754f974699b17c8c93d731875e",
       "value": "#0: 100%"
      }
     },
     "76de107be486405b987d73b50cf7817e": {
      "model_module": "@jupyter-widgets/controls",
      "model_module_version": "1.5.0",
      "model_name": "HBoxModel",
      "state": {
       "_dom_classes": [],
       "_model_module": "@jupyter-widgets/controls",
       "_model_module_version": "1.5.0",
       "_model_name": "HBoxModel",
       "_view_count": null,
       "_view_module": "@jupyter-widgets/controls",
       "_view_module_version": "1.5.0",
       "_view_name": "HBoxView",
       "box_style": "",
       "children": [
        "IPY_MODEL_bd5a1f4b0c6e4f18b8108186d7f952f0",
        "IPY_MODEL_bd9ef6cd803e4f119bea2a488b93d36d",
        "IPY_MODEL_d5a40f34a9834740b1eb00106d6c3c99"
       ],
       "layout": "IPY_MODEL_f6db1d3e57bc487c9aad54ef5e67de80"
      }
     },
     "7e28e72aeba34bc8ae3384bb749cead5": {
      "model_module": "@jupyter-widgets/controls",
      "model_module_version": "1.5.0",
      "model_name": "ProgressStyleModel",
      "state": {
       "_model_module": "@jupyter-widgets/controls",
       "_model_module_version": "1.5.0",
       "_model_name": "ProgressStyleModel",
       "_view_count": null,
       "_view_module": "@jupyter-widgets/base",
       "_view_module_version": "1.2.0",
       "_view_name": "StyleView",
       "bar_color": null,
       "description_width": ""
      }
     },
     "808bf647a2cc48caaeecb57b304f4ab5": {
      "model_module": "@jupyter-widgets/base",
      "model_module_version": "1.2.0",
      "model_name": "LayoutModel",
      "state": {
       "_model_module": "@jupyter-widgets/base",
       "_model_module_version": "1.2.0",
       "_model_name": "LayoutModel",
       "_view_count": null,
       "_view_module": "@jupyter-widgets/base",
       "_view_module_version": "1.2.0",
       "_view_name": "LayoutView",
       "align_content": null,
       "align_items": null,
       "align_self": null,
       "border": null,
       "bottom": null,
       "display": null,
       "flex": null,
       "flex_flow": null,
       "grid_area": null,
       "grid_auto_columns": null,
       "grid_auto_flow": null,
       "grid_auto_rows": null,
       "grid_column": null,
       "grid_gap": null,
       "grid_row": null,
       "grid_template_areas": null,
       "grid_template_columns": null,
       "grid_template_rows": null,
       "height": null,
       "justify_content": null,
       "justify_items": null,
       "left": null,
       "margin": null,
       "max_height": null,
       "max_width": null,
       "min_height": null,
       "min_width": null,
       "object_fit": null,
       "object_position": null,
       "order": null,
       "overflow": null,
       "overflow_x": null,
       "overflow_y": null,
       "padding": null,
       "right": null,
       "top": null,
       "visibility": null,
       "width": null
      }
     },
     "81aa14e2f1664365a4c8b6bd1aaa5d32": {
      "model_module": "@jupyter-widgets/base",
      "model_module_version": "1.2.0",
      "model_name": "LayoutModel",
      "state": {
       "_model_module": "@jupyter-widgets/base",
       "_model_module_version": "1.2.0",
       "_model_name": "LayoutModel",
       "_view_count": null,
       "_view_module": "@jupyter-widgets/base",
       "_view_module_version": "1.2.0",
       "_view_name": "LayoutView",
       "align_content": null,
       "align_items": null,
       "align_self": null,
       "border": null,
       "bottom": null,
       "display": null,
       "flex": null,
       "flex_flow": null,
       "grid_area": null,
       "grid_auto_columns": null,
       "grid_auto_flow": null,
       "grid_auto_rows": null,
       "grid_column": null,
       "grid_gap": null,
       "grid_row": null,
       "grid_template_areas": null,
       "grid_template_columns": null,
       "grid_template_rows": null,
       "height": null,
       "justify_content": null,
       "justify_items": null,
       "left": null,
       "margin": null,
       "max_height": null,
       "max_width": null,
       "min_height": null,
       "min_width": null,
       "object_fit": null,
       "object_position": null,
       "order": null,
       "overflow": null,
       "overflow_x": null,
       "overflow_y": null,
       "padding": null,
       "right": null,
       "top": null,
       "visibility": null,
       "width": null
      }
     },
     "8a9db33d80104b67945dfd3e1fb9c015": {
      "model_module": "@jupyter-widgets/controls",
      "model_module_version": "1.5.0",
      "model_name": "HTMLModel",
      "state": {
       "_dom_classes": [],
       "_model_module": "@jupyter-widgets/controls",
       "_model_module_version": "1.5.0",
       "_model_name": "HTMLModel",
       "_view_count": null,
       "_view_module": "@jupyter-widgets/controls",
       "_view_module_version": "1.5.0",
       "_view_name": "HTMLView",
       "description": "",
       "description_tooltip": null,
       "layout": "IPY_MODEL_144bca47fcc24cbeae320cb91a9d7a04",
       "placeholder": "​",
       "style": "IPY_MODEL_af74706fff394c0d871ceb0b14f78106",
       "value": "#1: 100%"
      }
     },
     "9773d88ce8c141d19f2655219b3c1030": {
      "model_module": "@jupyter-widgets/controls",
      "model_module_version": "1.5.0",
      "model_name": "FloatProgressModel",
      "state": {
       "_dom_classes": [],
       "_model_module": "@jupyter-widgets/controls",
       "_model_module_version": "1.5.0",
       "_model_name": "FloatProgressModel",
       "_view_count": null,
       "_view_module": "@jupyter-widgets/controls",
       "_view_module_version": "1.5.0",
       "_view_name": "ProgressView",
       "bar_style": "success",
       "description": "",
       "description_tooltip": null,
       "layout": "IPY_MODEL_4690b53835b049648da9e9aac363aa14",
       "max": 6673.0,
       "min": 0.0,
       "orientation": "horizontal",
       "style": "IPY_MODEL_3cd12d54cb4141c6b488f5b70e04935a",
       "value": 6673.0
      }
     },
     "a1dc0875f8a74b13bc55b5fc1abe0b39": {
      "model_module": "@jupyter-widgets/base",
      "model_module_version": "1.2.0",
      "model_name": "LayoutModel",
      "state": {
       "_model_module": "@jupyter-widgets/base",
       "_model_module_version": "1.2.0",
       "_model_name": "LayoutModel",
       "_view_count": null,
       "_view_module": "@jupyter-widgets/base",
       "_view_module_version": "1.2.0",
       "_view_name": "LayoutView",
       "align_content": null,
       "align_items": null,
       "align_self": null,
       "border": null,
       "bottom": null,
       "display": null,
       "flex": null,
       "flex_flow": null,
       "grid_area": null,
       "grid_auto_columns": null,
       "grid_auto_flow": null,
       "grid_auto_rows": null,
       "grid_column": null,
       "grid_gap": null,
       "grid_row": null,
       "grid_template_areas": null,
       "grid_template_columns": null,
       "grid_template_rows": null,
       "height": null,
       "justify_content": null,
       "justify_items": null,
       "left": null,
       "margin": null,
       "max_height": null,
       "max_width": null,
       "min_height": null,
       "min_width": null,
       "object_fit": null,
       "object_position": null,
       "order": null,
       "overflow": null,
       "overflow_x": null,
       "overflow_y": null,
       "padding": null,
       "right": null,
       "top": null,
       "visibility": null,
       "width": null
      }
     },
     "a3894b2c321943d283e444dd7fc1fde8": {
      "model_module": "@jupyter-widgets/base",
      "model_module_version": "1.2.0",
      "model_name": "LayoutModel",
      "state": {
       "_model_module": "@jupyter-widgets/base",
       "_model_module_version": "1.2.0",
       "_model_name": "LayoutModel",
       "_view_count": null,
       "_view_module": "@jupyter-widgets/base",
       "_view_module_version": "1.2.0",
       "_view_name": "LayoutView",
       "align_content": null,
       "align_items": null,
       "align_self": null,
       "border": null,
       "bottom": null,
       "display": null,
       "flex": null,
       "flex_flow": null,
       "grid_area": null,
       "grid_auto_columns": null,
       "grid_auto_flow": null,
       "grid_auto_rows": null,
       "grid_column": null,
       "grid_gap": null,
       "grid_row": null,
       "grid_template_areas": null,
       "grid_template_columns": null,
       "grid_template_rows": null,
       "height": null,
       "justify_content": null,
       "justify_items": null,
       "left": null,
       "margin": null,
       "max_height": null,
       "max_width": null,
       "min_height": null,
       "min_width": null,
       "object_fit": null,
       "object_position": null,
       "order": null,
       "overflow": null,
       "overflow_x": null,
       "overflow_y": null,
       "padding": null,
       "right": null,
       "top": null,
       "visibility": null,
       "width": null
      }
     },
     "a7957cb9188444699fd50e302bd620c8": {
      "model_module": "@jupyter-widgets/controls",
      "model_module_version": "1.5.0",
      "model_name": "HTMLModel",
      "state": {
       "_dom_classes": [],
       "_model_module": "@jupyter-widgets/controls",
       "_model_module_version": "1.5.0",
       "_model_name": "HTMLModel",
       "_view_count": null,
       "_view_module": "@jupyter-widgets/controls",
       "_view_module_version": "1.5.0",
       "_view_name": "HTMLView",
       "description": "",
       "description_tooltip": null,
       "layout": "IPY_MODEL_81aa14e2f1664365a4c8b6bd1aaa5d32",
       "placeholder": "​",
       "style": "IPY_MODEL_baa0e0e54b594d008d3b6d6a478604da",
       "value": " 6673/6673 [03:45&lt;00:00, 35.67ex/s]"
      }
     },
     "af74706fff394c0d871ceb0b14f78106": {
      "model_module": "@jupyter-widgets/controls",
      "model_module_version": "1.5.0",
      "model_name": "DescriptionStyleModel",
      "state": {
       "_model_module": "@jupyter-widgets/controls",
       "_model_module_version": "1.5.0",
       "_model_name": "DescriptionStyleModel",
       "_view_count": null,
       "_view_module": "@jupyter-widgets/base",
       "_view_module_version": "1.2.0",
       "_view_name": "StyleView",
       "description_width": ""
      }
     },
     "baa0e0e54b594d008d3b6d6a478604da": {
      "model_module": "@jupyter-widgets/controls",
      "model_module_version": "1.5.0",
      "model_name": "DescriptionStyleModel",
      "state": {
       "_model_module": "@jupyter-widgets/controls",
       "_model_module_version": "1.5.0",
       "_model_name": "DescriptionStyleModel",
       "_view_count": null,
       "_view_module": "@jupyter-widgets/base",
       "_view_module_version": "1.2.0",
       "_view_name": "StyleView",
       "description_width": ""
      }
     },
     "bd5a1f4b0c6e4f18b8108186d7f952f0": {
      "model_module": "@jupyter-widgets/controls",
      "model_module_version": "1.5.0",
      "model_name": "HTMLModel",
      "state": {
       "_dom_classes": [],
       "_model_module": "@jupyter-widgets/controls",
       "_model_module_version": "1.5.0",
       "_model_name": "HTMLModel",
       "_view_count": null,
       "_view_module": "@jupyter-widgets/controls",
       "_view_module_version": "1.5.0",
       "_view_name": "HTMLView",
       "description": "",
       "description_tooltip": null,
       "layout": "IPY_MODEL_44014155d9914e9ea817770efc281a06",
       "placeholder": "​",
       "style": "IPY_MODEL_d3e996c372ef4731b8ee148ab90f0eff",
       "value": "#0: 100%"
      }
     },
     "bd9ef6cd803e4f119bea2a488b93d36d": {
      "model_module": "@jupyter-widgets/controls",
      "model_module_version": "1.5.0",
      "model_name": "FloatProgressModel",
      "state": {
       "_dom_classes": [],
       "_model_module": "@jupyter-widgets/controls",
       "_model_module_version": "1.5.0",
       "_model_name": "FloatProgressModel",
       "_view_count": null,
       "_view_module": "@jupyter-widgets/controls",
       "_view_module_version": "1.5.0",
       "_view_name": "ProgressView",
       "bar_style": "success",
       "description": "",
       "description_tooltip": null,
       "layout": "IPY_MODEL_eeea75453deb47df95960f1750df2f1a",
       "max": 68.0,
       "min": 0.0,
       "orientation": "horizontal",
       "style": "IPY_MODEL_3bfcac5091e14fa6856199d9c0ccfc29",
       "value": 68.0
      }
     },
     "c69ec83b9d744500add79d6cde76fd06": {
      "model_module": "@jupyter-widgets/base",
      "model_module_version": "1.2.0",
      "model_name": "LayoutModel",
      "state": {
       "_model_module": "@jupyter-widgets/base",
       "_model_module_version": "1.2.0",
       "_model_name": "LayoutModel",
       "_view_count": null,
       "_view_module": "@jupyter-widgets/base",
       "_view_module_version": "1.2.0",
       "_view_name": "LayoutView",
       "align_content": null,
       "align_items": null,
       "align_self": null,
       "border": null,
       "bottom": null,
       "display": null,
       "flex": null,
       "flex_flow": null,
       "grid_area": null,
       "grid_auto_columns": null,
       "grid_auto_flow": null,
       "grid_auto_rows": null,
       "grid_column": null,
       "grid_gap": null,
       "grid_row": null,
       "grid_template_areas": null,
       "grid_template_columns": null,
       "grid_template_rows": null,
       "height": null,
       "justify_content": null,
       "justify_items": null,
       "left": null,
       "margin": null,
       "max_height": null,
       "max_width": null,
       "min_height": null,
       "min_width": null,
       "object_fit": null,
       "object_position": null,
       "order": null,
       "overflow": null,
       "overflow_x": null,
       "overflow_y": null,
       "padding": null,
       "right": null,
       "top": null,
       "visibility": null,
       "width": null
      }
     },
     "d3ddb2afdb6b44d69b748914553e18ba": {
      "model_module": "@jupyter-widgets/base",
      "model_module_version": "1.2.0",
      "model_name": "LayoutModel",
      "state": {
       "_model_module": "@jupyter-widgets/base",
       "_model_module_version": "1.2.0",
       "_model_name": "LayoutModel",
       "_view_count": null,
       "_view_module": "@jupyter-widgets/base",
       "_view_module_version": "1.2.0",
       "_view_name": "LayoutView",
       "align_content": null,
       "align_items": null,
       "align_self": null,
       "border": null,
       "bottom": null,
       "display": null,
       "flex": null,
       "flex_flow": null,
       "grid_area": null,
       "grid_auto_columns": null,
       "grid_auto_flow": null,
       "grid_auto_rows": null,
       "grid_column": null,
       "grid_gap": null,
       "grid_row": null,
       "grid_template_areas": null,
       "grid_template_columns": null,
       "grid_template_rows": null,
       "height": null,
       "justify_content": null,
       "justify_items": null,
       "left": null,
       "margin": null,
       "max_height": null,
       "max_width": null,
       "min_height": null,
       "min_width": null,
       "object_fit": null,
       "object_position": null,
       "order": null,
       "overflow": null,
       "overflow_x": null,
       "overflow_y": null,
       "padding": null,
       "right": null,
       "top": null,
       "visibility": null,
       "width": null
      }
     },
     "d3e996c372ef4731b8ee148ab90f0eff": {
      "model_module": "@jupyter-widgets/controls",
      "model_module_version": "1.5.0",
      "model_name": "DescriptionStyleModel",
      "state": {
       "_model_module": "@jupyter-widgets/controls",
       "_model_module_version": "1.5.0",
       "_model_name": "DescriptionStyleModel",
       "_view_count": null,
       "_view_module": "@jupyter-widgets/base",
       "_view_module_version": "1.2.0",
       "_view_name": "StyleView",
       "description_width": ""
      }
     },
     "d5a40f34a9834740b1eb00106d6c3c99": {
      "model_module": "@jupyter-widgets/controls",
      "model_module_version": "1.5.0",
      "model_name": "HTMLModel",
      "state": {
       "_dom_classes": [],
       "_model_module": "@jupyter-widgets/controls",
       "_model_module_version": "1.5.0",
       "_model_name": "HTMLModel",
       "_view_count": null,
       "_view_module": "@jupyter-widgets/controls",
       "_view_module_version": "1.5.0",
       "_view_name": "HTMLView",
       "description": "",
       "description_tooltip": null,
       "layout": "IPY_MODEL_a3894b2c321943d283e444dd7fc1fde8",
       "placeholder": "​",
       "style": "IPY_MODEL_1d2cee9bc41b471a8460416bc99a50d1",
       "value": " 68/68 [00:04&lt;00:00, 30.89ex/s]"
      }
     },
     "dabf55c2cc46462db6bff8fc15648fe8": {
      "model_module": "@jupyter-widgets/controls",
      "model_module_version": "1.5.0",
      "model_name": "DescriptionStyleModel",
      "state": {
       "_model_module": "@jupyter-widgets/controls",
       "_model_module_version": "1.5.0",
       "_model_name": "DescriptionStyleModel",
       "_view_count": null,
       "_view_module": "@jupyter-widgets/base",
       "_view_module_version": "1.2.0",
       "_view_name": "StyleView",
       "description_width": ""
      }
     },
     "ea5354066729413b9f113f56f9164cb2": {
      "model_module": "@jupyter-widgets/base",
      "model_module_version": "1.2.0",
      "model_name": "LayoutModel",
      "state": {
       "_model_module": "@jupyter-widgets/base",
       "_model_module_version": "1.2.0",
       "_model_name": "LayoutModel",
       "_view_count": null,
       "_view_module": "@jupyter-widgets/base",
       "_view_module_version": "1.2.0",
       "_view_name": "LayoutView",
       "align_content": null,
       "align_items": null,
       "align_self": null,
       "border": null,
       "bottom": null,
       "display": null,
       "flex": null,
       "flex_flow": null,
       "grid_area": null,
       "grid_auto_columns": null,
       "grid_auto_flow": null,
       "grid_auto_rows": null,
       "grid_column": null,
       "grid_gap": null,
       "grid_row": null,
       "grid_template_areas": null,
       "grid_template_columns": null,
       "grid_template_rows": null,
       "height": null,
       "justify_content": null,
       "justify_items": null,
       "left": null,
       "margin": null,
       "max_height": null,
       "max_width": null,
       "min_height": null,
       "min_width": null,
       "object_fit": null,
       "object_position": null,
       "order": null,
       "overflow": null,
       "overflow_x": null,
       "overflow_y": null,
       "padding": null,
       "right": null,
       "top": null,
       "visibility": null,
       "width": null
      }
     },
     "eeea75453deb47df95960f1750df2f1a": {
      "model_module": "@jupyter-widgets/base",
      "model_module_version": "1.2.0",
      "model_name": "LayoutModel",
      "state": {
       "_model_module": "@jupyter-widgets/base",
       "_model_module_version": "1.2.0",
       "_model_name": "LayoutModel",
       "_view_count": null,
       "_view_module": "@jupyter-widgets/base",
       "_view_module_version": "1.2.0",
       "_view_name": "LayoutView",
       "align_content": null,
       "align_items": null,
       "align_self": null,
       "border": null,
       "bottom": null,
       "display": null,
       "flex": null,
       "flex_flow": null,
       "grid_area": null,
       "grid_auto_columns": null,
       "grid_auto_flow": null,
       "grid_auto_rows": null,
       "grid_column": null,
       "grid_gap": null,
       "grid_row": null,
       "grid_template_areas": null,
       "grid_template_columns": null,
       "grid_template_rows": null,
       "height": null,
       "justify_content": null,
       "justify_items": null,
       "left": null,
       "margin": null,
       "max_height": null,
       "max_width": null,
       "min_height": null,
       "min_width": null,
       "object_fit": null,
       "object_position": null,
       "order": null,
       "overflow": null,
       "overflow_x": null,
       "overflow_y": null,
       "padding": null,
       "right": null,
       "top": null,
       "visibility": null,
       "width": null
      }
     },
     "f1c11398b32b4a80a527b3b1677b0693": {
      "model_module": "@jupyter-widgets/controls",
      "model_module_version": "1.5.0",
      "model_name": "HBoxModel",
      "state": {
       "_dom_classes": [],
       "_model_module": "@jupyter-widgets/controls",
       "_model_module_version": "1.5.0",
       "_model_name": "HBoxModel",
       "_view_count": null,
       "_view_module": "@jupyter-widgets/controls",
       "_view_module_version": "1.5.0",
       "_view_name": "HBoxView",
       "box_style": "",
       "children": [
        "IPY_MODEL_8a9db33d80104b67945dfd3e1fb9c015",
        "IPY_MODEL_9773d88ce8c141d19f2655219b3c1030",
        "IPY_MODEL_a7957cb9188444699fd50e302bd620c8"
       ],
       "layout": "IPY_MODEL_ea5354066729413b9f113f56f9164cb2"
      }
     },
     "f6db1d3e57bc487c9aad54ef5e67de80": {
      "model_module": "@jupyter-widgets/base",
      "model_module_version": "1.2.0",
      "model_name": "LayoutModel",
      "state": {
       "_model_module": "@jupyter-widgets/base",
       "_model_module_version": "1.2.0",
       "_model_name": "LayoutModel",
       "_view_count": null,
       "_view_module": "@jupyter-widgets/base",
       "_view_module_version": "1.2.0",
       "_view_name": "LayoutView",
       "align_content": null,
       "align_items": null,
       "align_self": null,
       "border": null,
       "bottom": null,
       "display": null,
       "flex": null,
       "flex_flow": null,
       "grid_area": null,
       "grid_auto_columns": null,
       "grid_auto_flow": null,
       "grid_auto_rows": null,
       "grid_column": null,
       "grid_gap": null,
       "grid_row": null,
       "grid_template_areas": null,
       "grid_template_columns": null,
       "grid_template_rows": null,
       "height": null,
       "justify_content": null,
       "justify_items": null,
       "left": null,
       "margin": null,
       "max_height": null,
       "max_width": null,
       "min_height": null,
       "min_width": null,
       "object_fit": null,
       "object_position": null,
       "order": null,
       "overflow": null,
       "overflow_x": null,
       "overflow_y": null,
       "padding": null,
       "right": null,
       "top": null,
       "visibility": null,
       "width": null
      }
     }
    },
    "version_major": 2,
    "version_minor": 0
   }
  }
 },
 "nbformat": 4,
 "nbformat_minor": 5
}
